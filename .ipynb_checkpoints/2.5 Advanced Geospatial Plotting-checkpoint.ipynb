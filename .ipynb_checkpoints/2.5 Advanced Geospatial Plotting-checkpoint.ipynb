{
 "cells": [
  {
   "cell_type": "markdown",
   "id": "1956a099-e45d-487f-add5-0b343a1a1841",
   "metadata": {},
   "source": [
    "## 2.5: Advanced Geospatial Plotting"
   ]
  },
  {
   "cell_type": "code",
   "execution_count": 3,
   "id": "c631cd8c-bd5f-4f53-bff4-b10a227ac92b",
   "metadata": {
    "tags": []
   },
   "outputs": [],
   "source": [
    "# Import libraries\n",
    "\n",
    "import pandas as pd\n",
    "import os\n",
    "from keplergl import KeplerGl\n",
    "from pyproj import CRS\n",
    "import numpy as np\n",
    "from matplotlib import pyplot as plt"
   ]
  },
  {
   "cell_type": "code",
   "execution_count": 4,
   "id": "6e4f9677-134d-4c5b-b74f-1ad0d9161772",
   "metadata": {
    "tags": []
   },
   "outputs": [
    {
     "name": "stderr",
     "output_type": "stream",
     "text": [
      "/var/folders/zp/dgvf82dj1f11lqylj8ps_3c00000gn/T/ipykernel_10945/849508513.py:3: DtypeWarning: Columns (7,9) have mixed types. Specify dtype option on import or set low_memory=False.\n",
      "  df = pd.read_csv('/Users/katiedallarosa/Desktop/CitiBike/nycitibike_data.csv', index_col = 0)\n"
     ]
    }
   ],
   "source": [
    "# Upload data\n",
    "\n",
    "df = pd.read_csv('/Users/katiedallarosa/Desktop/CitiBike/nycitibike_data.csv', index_col = 0)"
   ]
  },
  {
   "cell_type": "markdown",
   "id": "b8af0546-8492-4a8f-a336-2ca4c3f8ede7",
   "metadata": {},
   "source": [
    "#### In the data set from the previous task, create a new column with the value of 1. Then create a new aggregated dataframe that contains 3 columns: starting station, ending station, and the count of trips between those stations."
   ]
  },
  {
   "cell_type": "code",
   "execution_count": 6,
   "id": "18bc98ad-abf0-457f-991f-ba3849a418bc",
   "metadata": {
    "tags": []
   },
   "outputs": [
    {
     "data": {
      "text/html": [
       "<div>\n",
       "<style scoped>\n",
       "    .dataframe tbody tr th:only-of-type {\n",
       "        vertical-align: middle;\n",
       "    }\n",
       "\n",
       "    .dataframe tbody tr th {\n",
       "        vertical-align: top;\n",
       "    }\n",
       "\n",
       "    .dataframe thead th {\n",
       "        text-align: right;\n",
       "    }\n",
       "</style>\n",
       "<table border=\"1\" class=\"dataframe\">\n",
       "  <thead>\n",
       "    <tr style=\"text-align: right;\">\n",
       "      <th></th>\n",
       "      <th>Unnamed: 0</th>\n",
       "      <th>ride_id</th>\n",
       "      <th>rideable_type</th>\n",
       "      <th>started_at</th>\n",
       "      <th>ended_at</th>\n",
       "      <th>start_station_name</th>\n",
       "      <th>start_station_id</th>\n",
       "      <th>end_station_name</th>\n",
       "      <th>end_station_id</th>\n",
       "      <th>start_lat</th>\n",
       "      <th>start_lng</th>\n",
       "      <th>end_lat</th>\n",
       "      <th>end_lng</th>\n",
       "      <th>member_casual</th>\n",
       "      <th>date</th>\n",
       "      <th>avgTemp</th>\n",
       "      <th>value</th>\n",
       "      <th>bike_rides_daily</th>\n",
       "      <th>merge_flag</th>\n",
       "    </tr>\n",
       "  </thead>\n",
       "  <tbody>\n",
       "    <tr>\n",
       "      <th>0</th>\n",
       "      <td>1832</td>\n",
       "      <td>69198402DE2F09D9</td>\n",
       "      <td>electric_bike</td>\n",
       "      <td>2022-01-01 18:47:29.261</td>\n",
       "      <td>2022-01-01 19:34:01.835</td>\n",
       "      <td>Mott St &amp; Prince St</td>\n",
       "      <td>5561.04</td>\n",
       "      <td>E 138 St &amp; Cypress Ave</td>\n",
       "      <td>7669.1</td>\n",
       "      <td>40.723180</td>\n",
       "      <td>-73.994800</td>\n",
       "      <td>40.805559</td>\n",
       "      <td>-73.914718</td>\n",
       "      <td>member</td>\n",
       "      <td>2022-01-01</td>\n",
       "      <td>2.0</td>\n",
       "      <td>1</td>\n",
       "      <td>5125</td>\n",
       "      <td>both</td>\n",
       "    </tr>\n",
       "    <tr>\n",
       "      <th>1</th>\n",
       "      <td>2264</td>\n",
       "      <td>A88286580E006A23</td>\n",
       "      <td>classic_bike</td>\n",
       "      <td>2022-01-01 12:11:43.270</td>\n",
       "      <td>2022-01-01 12:22:41.986</td>\n",
       "      <td>Dock 72 Way &amp; Market St</td>\n",
       "      <td>4804.02</td>\n",
       "      <td>Washington Ave &amp; Greene Ave</td>\n",
       "      <td>4419.03</td>\n",
       "      <td>40.699850</td>\n",
       "      <td>-73.971410</td>\n",
       "      <td>40.686501</td>\n",
       "      <td>-73.965633</td>\n",
       "      <td>member</td>\n",
       "      <td>2022-01-01</td>\n",
       "      <td>2.0</td>\n",
       "      <td>1</td>\n",
       "      <td>5125</td>\n",
       "      <td>both</td>\n",
       "    </tr>\n",
       "    <tr>\n",
       "      <th>2</th>\n",
       "      <td>2505</td>\n",
       "      <td>5C8D80FADFCE6A5A</td>\n",
       "      <td>classic_bike</td>\n",
       "      <td>2022-01-01 12:39:49.213</td>\n",
       "      <td>2022-01-01 12:45:54.864</td>\n",
       "      <td>Great Jones St</td>\n",
       "      <td>5636.11</td>\n",
       "      <td>W 13 St &amp; 7 Ave</td>\n",
       "      <td>6030.04</td>\n",
       "      <td>40.727434</td>\n",
       "      <td>-73.993790</td>\n",
       "      <td>40.737815</td>\n",
       "      <td>-73.999947</td>\n",
       "      <td>casual</td>\n",
       "      <td>2022-01-01</td>\n",
       "      <td>2.0</td>\n",
       "      <td>1</td>\n",
       "      <td>5125</td>\n",
       "      <td>both</td>\n",
       "    </tr>\n",
       "    <tr>\n",
       "      <th>3</th>\n",
       "      <td>3470</td>\n",
       "      <td>EE8147050ACEB21C</td>\n",
       "      <td>classic_bike</td>\n",
       "      <td>2022-01-01 10:44:01.137</td>\n",
       "      <td>2022-01-01 10:46:53.936</td>\n",
       "      <td>E 13 St &amp; 2 Ave</td>\n",
       "      <td>5820.08</td>\n",
       "      <td>Cooper Square &amp; Astor Pl</td>\n",
       "      <td>5712.03</td>\n",
       "      <td>40.731539</td>\n",
       "      <td>-73.985302</td>\n",
       "      <td>40.729515</td>\n",
       "      <td>-73.990753</td>\n",
       "      <td>member</td>\n",
       "      <td>2022-01-01</td>\n",
       "      <td>2.0</td>\n",
       "      <td>1</td>\n",
       "      <td>5125</td>\n",
       "      <td>both</td>\n",
       "    </tr>\n",
       "    <tr>\n",
       "      <th>4</th>\n",
       "      <td>3738</td>\n",
       "      <td>21B74269FD2FCDBD</td>\n",
       "      <td>classic_bike</td>\n",
       "      <td>2022-01-01 01:11:09.098</td>\n",
       "      <td>2022-01-01 01:36:58.774</td>\n",
       "      <td>W 17 St &amp; 8 Ave</td>\n",
       "      <td>6148.02</td>\n",
       "      <td>Duane St &amp; Hudson St</td>\n",
       "      <td>5359.12</td>\n",
       "      <td>40.741776</td>\n",
       "      <td>-74.001497</td>\n",
       "      <td>40.717030</td>\n",
       "      <td>-74.009250</td>\n",
       "      <td>casual</td>\n",
       "      <td>2022-01-01</td>\n",
       "      <td>2.0</td>\n",
       "      <td>1</td>\n",
       "      <td>5125</td>\n",
       "      <td>both</td>\n",
       "    </tr>\n",
       "  </tbody>\n",
       "</table>\n",
       "</div>"
      ],
      "text/plain": [
       "   Unnamed: 0           ride_id  rideable_type               started_at  \\\n",
       "0        1832  69198402DE2F09D9  electric_bike  2022-01-01 18:47:29.261   \n",
       "1        2264  A88286580E006A23   classic_bike  2022-01-01 12:11:43.270   \n",
       "2        2505  5C8D80FADFCE6A5A   classic_bike  2022-01-01 12:39:49.213   \n",
       "3        3470  EE8147050ACEB21C   classic_bike  2022-01-01 10:44:01.137   \n",
       "4        3738  21B74269FD2FCDBD   classic_bike  2022-01-01 01:11:09.098   \n",
       "\n",
       "                  ended_at       start_station_name start_station_id  \\\n",
       "0  2022-01-01 19:34:01.835      Mott St & Prince St          5561.04   \n",
       "1  2022-01-01 12:22:41.986  Dock 72 Way & Market St          4804.02   \n",
       "2  2022-01-01 12:45:54.864           Great Jones St          5636.11   \n",
       "3  2022-01-01 10:46:53.936          E 13 St & 2 Ave          5820.08   \n",
       "4  2022-01-01 01:36:58.774          W 17 St & 8 Ave          6148.02   \n",
       "\n",
       "              end_station_name end_station_id  start_lat  start_lng  \\\n",
       "0       E 138 St & Cypress Ave         7669.1  40.723180 -73.994800   \n",
       "1  Washington Ave & Greene Ave        4419.03  40.699850 -73.971410   \n",
       "2              W 13 St & 7 Ave        6030.04  40.727434 -73.993790   \n",
       "3     Cooper Square & Astor Pl        5712.03  40.731539 -73.985302   \n",
       "4         Duane St & Hudson St        5359.12  40.741776 -74.001497   \n",
       "\n",
       "     end_lat    end_lng member_casual        date  avgTemp  value  \\\n",
       "0  40.805559 -73.914718        member  2022-01-01      2.0      1   \n",
       "1  40.686501 -73.965633        member  2022-01-01      2.0      1   \n",
       "2  40.737815 -73.999947        casual  2022-01-01      2.0      1   \n",
       "3  40.729515 -73.990753        member  2022-01-01      2.0      1   \n",
       "4  40.717030 -74.009250        casual  2022-01-01      2.0      1   \n",
       "\n",
       "   bike_rides_daily merge_flag  \n",
       "0              5125       both  \n",
       "1              5125       both  \n",
       "2              5125       both  \n",
       "3              5125       both  \n",
       "4              5125       both  "
      ]
     },
     "execution_count": 6,
     "metadata": {},
     "output_type": "execute_result"
    }
   ],
   "source": [
    "df.head()"
   ]
  },
  {
   "cell_type": "code",
   "execution_count": 7,
   "id": "8e14b788-6258-481d-af80-f52ddd809f96",
   "metadata": {
    "tags": []
   },
   "outputs": [],
   "source": [
    "# Drop value column for next step\n",
    "\n",
    "df = df.drop('value', axis=1)"
   ]
  },
  {
   "cell_type": "code",
   "execution_count": 8,
   "id": "fb19c3c9-2e4d-412c-b124-f9b2b86e28a3",
   "metadata": {
    "tags": []
   },
   "outputs": [],
   "source": [
    "# Create a value column and group by start and end station \n",
    "\n",
    "df['value'] = 1\n",
    "df_group = df.groupby(['start_station_name', 'end_station_name'])['value'].count().reset_index()"
   ]
  },
  {
   "cell_type": "code",
   "execution_count": 9,
   "id": "083e5bf9-991e-400a-9f08-c6f926523fbe",
   "metadata": {
    "tags": []
   },
   "outputs": [
    {
     "data": {
      "text/html": [
       "<div>\n",
       "<style scoped>\n",
       "    .dataframe tbody tr th:only-of-type {\n",
       "        vertical-align: middle;\n",
       "    }\n",
       "\n",
       "    .dataframe tbody tr th {\n",
       "        vertical-align: top;\n",
       "    }\n",
       "\n",
       "    .dataframe thead th {\n",
       "        text-align: right;\n",
       "    }\n",
       "</style>\n",
       "<table border=\"1\" class=\"dataframe\">\n",
       "  <thead>\n",
       "    <tr style=\"text-align: right;\">\n",
       "      <th></th>\n",
       "      <th>start_station_name</th>\n",
       "      <th>end_station_name</th>\n",
       "      <th>value</th>\n",
       "    </tr>\n",
       "  </thead>\n",
       "  <tbody>\n",
       "    <tr>\n",
       "      <th>0</th>\n",
       "      <td>1 Ave &amp; E 110 St</td>\n",
       "      <td>1 Ave &amp; E 110 St</td>\n",
       "      <td>195</td>\n",
       "    </tr>\n",
       "    <tr>\n",
       "      <th>1</th>\n",
       "      <td>1 Ave &amp; E 110 St</td>\n",
       "      <td>1 Ave &amp; E 18 St</td>\n",
       "      <td>1</td>\n",
       "    </tr>\n",
       "    <tr>\n",
       "      <th>2</th>\n",
       "      <td>1 Ave &amp; E 110 St</td>\n",
       "      <td>1 Ave &amp; E 30 St</td>\n",
       "      <td>2</td>\n",
       "    </tr>\n",
       "    <tr>\n",
       "      <th>3</th>\n",
       "      <td>1 Ave &amp; E 110 St</td>\n",
       "      <td>1 Ave &amp; E 44 St</td>\n",
       "      <td>1</td>\n",
       "    </tr>\n",
       "    <tr>\n",
       "      <th>4</th>\n",
       "      <td>1 Ave &amp; E 110 St</td>\n",
       "      <td>1 Ave &amp; E 62 St</td>\n",
       "      <td>7</td>\n",
       "    </tr>\n",
       "    <tr>\n",
       "      <th>...</th>\n",
       "      <td>...</td>\n",
       "      <td>...</td>\n",
       "      <td>...</td>\n",
       "    </tr>\n",
       "    <tr>\n",
       "      <th>663988</th>\n",
       "      <td>Yankee Ferry Terminal</td>\n",
       "      <td>South St &amp; Gouverneur Ln</td>\n",
       "      <td>3</td>\n",
       "    </tr>\n",
       "    <tr>\n",
       "      <th>663989</th>\n",
       "      <td>Yankee Ferry Terminal</td>\n",
       "      <td>South St &amp; Whitehall St</td>\n",
       "      <td>27</td>\n",
       "    </tr>\n",
       "    <tr>\n",
       "      <th>663990</th>\n",
       "      <td>Yankee Ferry Terminal</td>\n",
       "      <td>W 15 St &amp; 10 Ave</td>\n",
       "      <td>1</td>\n",
       "    </tr>\n",
       "    <tr>\n",
       "      <th>663991</th>\n",
       "      <td>Yankee Ferry Terminal</td>\n",
       "      <td>West St &amp; Chambers St</td>\n",
       "      <td>2</td>\n",
       "    </tr>\n",
       "    <tr>\n",
       "      <th>663992</th>\n",
       "      <td>Yankee Ferry Terminal</td>\n",
       "      <td>Yankee Ferry Terminal</td>\n",
       "      <td>1353</td>\n",
       "    </tr>\n",
       "  </tbody>\n",
       "</table>\n",
       "<p>663993 rows × 3 columns</p>\n",
       "</div>"
      ],
      "text/plain": [
       "           start_station_name          end_station_name  value\n",
       "0            1 Ave & E 110 St          1 Ave & E 110 St    195\n",
       "1            1 Ave & E 110 St           1 Ave & E 18 St      1\n",
       "2            1 Ave & E 110 St           1 Ave & E 30 St      2\n",
       "3            1 Ave & E 110 St           1 Ave & E 44 St      1\n",
       "4            1 Ave & E 110 St           1 Ave & E 62 St      7\n",
       "...                       ...                       ...    ...\n",
       "663988  Yankee Ferry Terminal  South St & Gouverneur Ln      3\n",
       "663989  Yankee Ferry Terminal   South St & Whitehall St     27\n",
       "663990  Yankee Ferry Terminal          W 15 St & 10 Ave      1\n",
       "663991  Yankee Ferry Terminal     West St & Chambers St      2\n",
       "663992  Yankee Ferry Terminal     Yankee Ferry Terminal   1353\n",
       "\n",
       "[663993 rows x 3 columns]"
      ]
     },
     "execution_count": 9,
     "metadata": {},
     "output_type": "execute_result"
    }
   ],
   "source": [
    "df_group"
   ]
  },
  {
   "cell_type": "code",
   "execution_count": 10,
   "id": "fe5e23d9-7558-4c30-ab6b-0b1a607a779f",
   "metadata": {
    "tags": []
   },
   "outputs": [],
   "source": [
    "df_latlong = df[['start_station_name','end_station_name','start_lat','start_lng','end_lat','end_lng']]\n",
    "df_latlong = df_latlong.drop_duplicates(subset=['start_station_name','end_station_name'])"
   ]
  },
  {
   "cell_type": "code",
   "execution_count": 41,
   "id": "6347cfcf-e0dc-4030-bfdf-57160e6190ec",
   "metadata": {
    "tags": []
   },
   "outputs": [
    {
     "data": {
      "text/plain": [
       "(665601, 6)"
      ]
     },
     "execution_count": 41,
     "metadata": {},
     "output_type": "execute_result"
    }
   ],
   "source": [
    "df_latlong.shape"
   ]
  },
  {
   "cell_type": "code",
   "execution_count": 43,
   "id": "ce074cde-b183-42bf-814d-807384e9b39a",
   "metadata": {
    "tags": []
   },
   "outputs": [
    {
     "data": {
      "text/plain": [
       "(663993, 3)"
      ]
     },
     "execution_count": 43,
     "metadata": {},
     "output_type": "execute_result"
    }
   ],
   "source": [
    "df_group.shape"
   ]
  },
  {
   "cell_type": "code",
   "execution_count": 45,
   "id": "82ae3fc9-dccd-4a7f-92fd-771bce351140",
   "metadata": {
    "tags": []
   },
   "outputs": [],
   "source": [
    "df_group = df_group.merge(df_latlong,on=['start_station_name','end_station_name'])"
   ]
  },
  {
   "cell_type": "code",
   "execution_count": 49,
   "id": "3ba3a30c-42f3-4bce-82a3-55533da9c3ad",
   "metadata": {
    "tags": []
   },
   "outputs": [
    {
     "data": {
      "text/html": [
       "<div>\n",
       "<style scoped>\n",
       "    .dataframe tbody tr th:only-of-type {\n",
       "        vertical-align: middle;\n",
       "    }\n",
       "\n",
       "    .dataframe tbody tr th {\n",
       "        vertical-align: top;\n",
       "    }\n",
       "\n",
       "    .dataframe thead th {\n",
       "        text-align: right;\n",
       "    }\n",
       "</style>\n",
       "<table border=\"1\" class=\"dataframe\">\n",
       "  <thead>\n",
       "    <tr style=\"text-align: right;\">\n",
       "      <th></th>\n",
       "      <th>start_station_name</th>\n",
       "      <th>end_station_name</th>\n",
       "      <th>trips</th>\n",
       "      <th>start_lat</th>\n",
       "      <th>start_lng</th>\n",
       "      <th>end_lat</th>\n",
       "      <th>end_lng</th>\n",
       "    </tr>\n",
       "  </thead>\n",
       "  <tbody>\n",
       "    <tr>\n",
       "      <th>0</th>\n",
       "      <td>1 Ave &amp; E 110 St</td>\n",
       "      <td>1 Ave &amp; E 110 St</td>\n",
       "      <td>195</td>\n",
       "      <td>40.792327</td>\n",
       "      <td>-73.938300</td>\n",
       "      <td>40.792327</td>\n",
       "      <td>-73.938300</td>\n",
       "    </tr>\n",
       "    <tr>\n",
       "      <th>1</th>\n",
       "      <td>1 Ave &amp; E 110 St</td>\n",
       "      <td>1 Ave &amp; E 18 St</td>\n",
       "      <td>1</td>\n",
       "      <td>40.792327</td>\n",
       "      <td>-73.938300</td>\n",
       "      <td>40.733812</td>\n",
       "      <td>-73.980544</td>\n",
       "    </tr>\n",
       "    <tr>\n",
       "      <th>2</th>\n",
       "      <td>1 Ave &amp; E 110 St</td>\n",
       "      <td>1 Ave &amp; E 30 St</td>\n",
       "      <td>2</td>\n",
       "      <td>40.792327</td>\n",
       "      <td>-73.938300</td>\n",
       "      <td>40.741444</td>\n",
       "      <td>-73.975361</td>\n",
       "    </tr>\n",
       "    <tr>\n",
       "      <th>3</th>\n",
       "      <td>1 Ave &amp; E 110 St</td>\n",
       "      <td>1 Ave &amp; E 44 St</td>\n",
       "      <td>1</td>\n",
       "      <td>40.792327</td>\n",
       "      <td>-73.938300</td>\n",
       "      <td>40.750020</td>\n",
       "      <td>-73.969053</td>\n",
       "    </tr>\n",
       "    <tr>\n",
       "      <th>4</th>\n",
       "      <td>1 Ave &amp; E 110 St</td>\n",
       "      <td>1 Ave &amp; E 62 St</td>\n",
       "      <td>7</td>\n",
       "      <td>40.792327</td>\n",
       "      <td>-73.938300</td>\n",
       "      <td>40.761227</td>\n",
       "      <td>-73.960940</td>\n",
       "    </tr>\n",
       "    <tr>\n",
       "      <th>...</th>\n",
       "      <td>...</td>\n",
       "      <td>...</td>\n",
       "      <td>...</td>\n",
       "      <td>...</td>\n",
       "      <td>...</td>\n",
       "      <td>...</td>\n",
       "      <td>...</td>\n",
       "    </tr>\n",
       "    <tr>\n",
       "      <th>663988</th>\n",
       "      <td>Yankee Ferry Terminal</td>\n",
       "      <td>South St &amp; Gouverneur Ln</td>\n",
       "      <td>3</td>\n",
       "      <td>40.687066</td>\n",
       "      <td>-74.016756</td>\n",
       "      <td>40.703554</td>\n",
       "      <td>-74.006702</td>\n",
       "    </tr>\n",
       "    <tr>\n",
       "      <th>663989</th>\n",
       "      <td>Yankee Ferry Terminal</td>\n",
       "      <td>South St &amp; Whitehall St</td>\n",
       "      <td>27</td>\n",
       "      <td>40.687066</td>\n",
       "      <td>-74.016756</td>\n",
       "      <td>40.701221</td>\n",
       "      <td>-74.012342</td>\n",
       "    </tr>\n",
       "    <tr>\n",
       "      <th>663990</th>\n",
       "      <td>Yankee Ferry Terminal</td>\n",
       "      <td>W 15 St &amp; 10 Ave</td>\n",
       "      <td>1</td>\n",
       "      <td>40.687066</td>\n",
       "      <td>-74.016756</td>\n",
       "      <td>40.742754</td>\n",
       "      <td>-74.007474</td>\n",
       "    </tr>\n",
       "    <tr>\n",
       "      <th>663991</th>\n",
       "      <td>Yankee Ferry Terminal</td>\n",
       "      <td>West St &amp; Chambers St</td>\n",
       "      <td>2</td>\n",
       "      <td>40.687066</td>\n",
       "      <td>-74.016756</td>\n",
       "      <td>40.717548</td>\n",
       "      <td>-74.013221</td>\n",
       "    </tr>\n",
       "    <tr>\n",
       "      <th>663992</th>\n",
       "      <td>Yankee Ferry Terminal</td>\n",
       "      <td>Yankee Ferry Terminal</td>\n",
       "      <td>1353</td>\n",
       "      <td>40.687066</td>\n",
       "      <td>-74.016756</td>\n",
       "      <td>40.687066</td>\n",
       "      <td>-74.016756</td>\n",
       "    </tr>\n",
       "  </tbody>\n",
       "</table>\n",
       "<p>663993 rows × 7 columns</p>\n",
       "</div>"
      ],
      "text/plain": [
       "           start_station_name          end_station_name  trips  start_lat  \\\n",
       "0            1 Ave & E 110 St          1 Ave & E 110 St    195  40.792327   \n",
       "1            1 Ave & E 110 St           1 Ave & E 18 St      1  40.792327   \n",
       "2            1 Ave & E 110 St           1 Ave & E 30 St      2  40.792327   \n",
       "3            1 Ave & E 110 St           1 Ave & E 44 St      1  40.792327   \n",
       "4            1 Ave & E 110 St           1 Ave & E 62 St      7  40.792327   \n",
       "...                       ...                       ...    ...        ...   \n",
       "663988  Yankee Ferry Terminal  South St & Gouverneur Ln      3  40.687066   \n",
       "663989  Yankee Ferry Terminal   South St & Whitehall St     27  40.687066   \n",
       "663990  Yankee Ferry Terminal          W 15 St & 10 Ave      1  40.687066   \n",
       "663991  Yankee Ferry Terminal     West St & Chambers St      2  40.687066   \n",
       "663992  Yankee Ferry Terminal     Yankee Ferry Terminal   1353  40.687066   \n",
       "\n",
       "        start_lng    end_lat    end_lng  \n",
       "0      -73.938300  40.792327 -73.938300  \n",
       "1      -73.938300  40.733812 -73.980544  \n",
       "2      -73.938300  40.741444 -73.975361  \n",
       "3      -73.938300  40.750020 -73.969053  \n",
       "4      -73.938300  40.761227 -73.960940  \n",
       "...           ...        ...        ...  \n",
       "663988 -74.016756  40.703554 -74.006702  \n",
       "663989 -74.016756  40.701221 -74.012342  \n",
       "663990 -74.016756  40.742754 -74.007474  \n",
       "663991 -74.016756  40.717548 -74.013221  \n",
       "663992 -74.016756  40.687066 -74.016756  \n",
       "\n",
       "[663993 rows x 7 columns]"
      ]
     },
     "execution_count": 49,
     "metadata": {},
     "output_type": "execute_result"
    }
   ],
   "source": [
    "df_group"
   ]
  },
  {
   "cell_type": "code",
   "execution_count": 53,
   "id": "e2be56a8-ce6e-4c2e-80e1-b0f7787c3433",
   "metadata": {
    "tags": []
   },
   "outputs": [
    {
     "data": {
      "text/html": [
       "<div>\n",
       "<style scoped>\n",
       "    .dataframe tbody tr th:only-of-type {\n",
       "        vertical-align: middle;\n",
       "    }\n",
       "\n",
       "    .dataframe tbody tr th {\n",
       "        vertical-align: top;\n",
       "    }\n",
       "\n",
       "    .dataframe thead th {\n",
       "        text-align: right;\n",
       "    }\n",
       "</style>\n",
       "<table border=\"1\" class=\"dataframe\">\n",
       "  <thead>\n",
       "    <tr style=\"text-align: right;\">\n",
       "      <th></th>\n",
       "      <th>start_station_name</th>\n",
       "      <th>end_station_name</th>\n",
       "      <th>trips</th>\n",
       "      <th>start_lat</th>\n",
       "      <th>start_lng</th>\n",
       "      <th>end_lat</th>\n",
       "      <th>end_lng</th>\n",
       "    </tr>\n",
       "  </thead>\n",
       "  <tbody>\n",
       "    <tr>\n",
       "      <th>0</th>\n",
       "      <td>Central Park S &amp; 6 Ave</td>\n",
       "      <td>Central Park S &amp; 6 Ave</td>\n",
       "      <td>3013</td>\n",
       "      <td>40.765909</td>\n",
       "      <td>-73.976342</td>\n",
       "      <td>40.765909</td>\n",
       "      <td>-73.976342</td>\n",
       "    </tr>\n",
       "    <tr>\n",
       "      <th>1</th>\n",
       "      <td>7 Ave &amp; Central Park South</td>\n",
       "      <td>7 Ave &amp; Central Park South</td>\n",
       "      <td>2088</td>\n",
       "      <td>40.766741</td>\n",
       "      <td>-73.979069</td>\n",
       "      <td>40.766741</td>\n",
       "      <td>-73.979069</td>\n",
       "    </tr>\n",
       "    <tr>\n",
       "      <th>2</th>\n",
       "      <td>Roosevelt Island Tramway</td>\n",
       "      <td>Roosevelt Island Tramway</td>\n",
       "      <td>2064</td>\n",
       "      <td>40.757284</td>\n",
       "      <td>-73.953600</td>\n",
       "      <td>40.757284</td>\n",
       "      <td>-73.953600</td>\n",
       "    </tr>\n",
       "    <tr>\n",
       "      <th>3</th>\n",
       "      <td>Grand Army Plaza &amp; Central Park S</td>\n",
       "      <td>Grand Army Plaza &amp; Central Park S</td>\n",
       "      <td>1820</td>\n",
       "      <td>40.764397</td>\n",
       "      <td>-73.973715</td>\n",
       "      <td>40.764397</td>\n",
       "      <td>-73.973715</td>\n",
       "    </tr>\n",
       "    <tr>\n",
       "      <th>4</th>\n",
       "      <td>Soissons Landing</td>\n",
       "      <td>Soissons Landing</td>\n",
       "      <td>1800</td>\n",
       "      <td>40.692317</td>\n",
       "      <td>-74.014866</td>\n",
       "      <td>40.692317</td>\n",
       "      <td>-74.014866</td>\n",
       "    </tr>\n",
       "    <tr>\n",
       "      <th>...</th>\n",
       "      <td>...</td>\n",
       "      <td>...</td>\n",
       "      <td>...</td>\n",
       "      <td>...</td>\n",
       "      <td>...</td>\n",
       "      <td>...</td>\n",
       "      <td>...</td>\n",
       "    </tr>\n",
       "    <tr>\n",
       "      <th>95</th>\n",
       "      <td>Central Park West &amp; W 85 St</td>\n",
       "      <td>Central Park West &amp; W 85 St</td>\n",
       "      <td>700</td>\n",
       "      <td>40.784760</td>\n",
       "      <td>-73.969862</td>\n",
       "      <td>40.784760</td>\n",
       "      <td>-73.969862</td>\n",
       "    </tr>\n",
       "    <tr>\n",
       "      <th>96</th>\n",
       "      <td>S 5 Pl &amp; S 5 St</td>\n",
       "      <td>S 5 Pl &amp; S 5 St</td>\n",
       "      <td>698</td>\n",
       "      <td>40.710451</td>\n",
       "      <td>-73.960876</td>\n",
       "      <td>40.710451</td>\n",
       "      <td>-73.960876</td>\n",
       "    </tr>\n",
       "    <tr>\n",
       "      <th>97</th>\n",
       "      <td>North Moore St &amp; Greenwich St</td>\n",
       "      <td>Vesey Pl &amp; River Terrace</td>\n",
       "      <td>696</td>\n",
       "      <td>40.720195</td>\n",
       "      <td>-74.010301</td>\n",
       "      <td>40.715338</td>\n",
       "      <td>-74.016584</td>\n",
       "    </tr>\n",
       "    <tr>\n",
       "      <th>98</th>\n",
       "      <td>46 Ave &amp; 5 St</td>\n",
       "      <td>45 Ave &amp; 21 St</td>\n",
       "      <td>695</td>\n",
       "      <td>40.747310</td>\n",
       "      <td>-73.954510</td>\n",
       "      <td>40.747371</td>\n",
       "      <td>-73.947773</td>\n",
       "    </tr>\n",
       "    <tr>\n",
       "      <th>99</th>\n",
       "      <td>River Ter &amp; Warren St</td>\n",
       "      <td>Vesey Pl &amp; River Terrace</td>\n",
       "      <td>688</td>\n",
       "      <td>40.717599</td>\n",
       "      <td>-74.015880</td>\n",
       "      <td>40.715338</td>\n",
       "      <td>-74.016584</td>\n",
       "    </tr>\n",
       "  </tbody>\n",
       "</table>\n",
       "<p>100 rows × 7 columns</p>\n",
       "</div>"
      ],
      "text/plain": [
       "                   start_station_name                   end_station_name  \\\n",
       "0              Central Park S & 6 Ave             Central Park S & 6 Ave   \n",
       "1          7 Ave & Central Park South         7 Ave & Central Park South   \n",
       "2            Roosevelt Island Tramway           Roosevelt Island Tramway   \n",
       "3   Grand Army Plaza & Central Park S  Grand Army Plaza & Central Park S   \n",
       "4                    Soissons Landing                   Soissons Landing   \n",
       "..                                ...                                ...   \n",
       "95        Central Park West & W 85 St        Central Park West & W 85 St   \n",
       "96                    S 5 Pl & S 5 St                    S 5 Pl & S 5 St   \n",
       "97      North Moore St & Greenwich St           Vesey Pl & River Terrace   \n",
       "98                      46 Ave & 5 St                     45 Ave & 21 St   \n",
       "99              River Ter & Warren St           Vesey Pl & River Terrace   \n",
       "\n",
       "    trips  start_lat  start_lng    end_lat    end_lng  \n",
       "0    3013  40.765909 -73.976342  40.765909 -73.976342  \n",
       "1    2088  40.766741 -73.979069  40.766741 -73.979069  \n",
       "2    2064  40.757284 -73.953600  40.757284 -73.953600  \n",
       "3    1820  40.764397 -73.973715  40.764397 -73.973715  \n",
       "4    1800  40.692317 -74.014866  40.692317 -74.014866  \n",
       "..    ...        ...        ...        ...        ...  \n",
       "95    700  40.784760 -73.969862  40.784760 -73.969862  \n",
       "96    698  40.710451 -73.960876  40.710451 -73.960876  \n",
       "97    696  40.720195 -74.010301  40.715338 -74.016584  \n",
       "98    695  40.747310 -73.954510  40.747371 -73.947773  \n",
       "99    688  40.717599 -74.015880  40.715338 -74.016584  \n",
       "\n",
       "[100 rows x 7 columns]"
      ]
     },
     "execution_count": 53,
     "metadata": {},
     "output_type": "execute_result"
    }
   ],
   "source": [
    "df_plot = df_group.nlargest(n=100,columns='trips').reset_index(drop=True)\n",
    "df_plot"
   ]
  },
  {
   "cell_type": "code",
   "execution_count": 61,
   "id": "aabdadcf-9728-41d9-8179-fa471be39db9",
   "metadata": {
    "tags": []
   },
   "outputs": [],
   "source": [
    "df_plot.to_csv('df_plot.csv')"
   ]
  },
  {
   "cell_type": "code",
   "execution_count": 11,
   "id": "3438cb4e-c8d5-43f3-887e-48da64bfc77e",
   "metadata": {
    "tags": []
   },
   "outputs": [
    {
     "name": "stdout",
     "output_type": "stream",
     "text": [
      "7442145\n",
      "(7459541, 19)\n"
     ]
    }
   ],
   "source": [
    "# Compare sum values of the value column and number of rows to ensure groupby funciton was done correctly\n",
    "\n",
    "print(df_group['value'].sum())\n",
    "print(df.shape)"
   ]
  },
  {
   "cell_type": "code",
   "execution_count": 12,
   "id": "7bdbfbe6-1613-4280-8f3f-3dbf193faf3f",
   "metadata": {
    "tags": []
   },
   "outputs": [],
   "source": [
    "df_group.rename(columns = {'value': 'trips'}, inplace = True)"
   ]
  },
  {
   "cell_type": "code",
   "execution_count": 64,
   "id": "10a6a04a-aa97-4b36-a145-881748ef4968",
   "metadata": {
    "tags": []
   },
   "outputs": [
    {
     "data": {
      "text/plain": [
       "count    663993.000000\n",
       "mean         11.208168\n",
       "std          30.078687\n",
       "min           1.000000\n",
       "25%           1.000000\n",
       "50%           3.000000\n",
       "75%           9.000000\n",
       "max        3013.000000\n",
       "Name: trips, dtype: float64"
      ]
     },
     "execution_count": 64,
     "metadata": {},
     "output_type": "execute_result"
    }
   ],
   "source": [
    "# Check statistics\n",
    "\n",
    "df_group['trips'].describe()"
   ]
  },
  {
   "cell_type": "code",
   "execution_count": 17,
   "id": "b5148912-9361-4017-800c-d2e1e9e1b92c",
   "metadata": {
    "tags": []
   },
   "outputs": [
    {
     "data": {
      "text/plain": [
       "trips\n",
       "1       228699\n",
       "2        94382\n",
       "3        54465\n",
       "4        36823\n",
       "5        27149\n",
       "         ...  \n",
       "591          1\n",
       "611          1\n",
       "548          1\n",
       "520          1\n",
       "1353         1\n",
       "Name: count, Length: 673, dtype: int64"
      ]
     },
     "execution_count": 17,
     "metadata": {},
     "output_type": "execute_result"
    }
   ],
   "source": [
    "df_group['trips'].sort_index().value_counts()"
   ]
  },
  {
   "cell_type": "code",
   "execution_count": 18,
   "id": "af137116-df15-413a-9a60-33560642397e",
   "metadata": {
    "tags": []
   },
   "outputs": [],
   "source": [
    "df_group.to_csv('df_groupby_final.csv')"
   ]
  },
  {
   "cell_type": "code",
   "execution_count": 19,
   "id": "4df5e771-bb78-4735-8d08-02590cf3fa51",
   "metadata": {
    "tags": []
   },
   "outputs": [
    {
     "data": {
      "text/html": [
       "<div>\n",
       "<style scoped>\n",
       "    .dataframe tbody tr th:only-of-type {\n",
       "        vertical-align: middle;\n",
       "    }\n",
       "\n",
       "    .dataframe tbody tr th {\n",
       "        vertical-align: top;\n",
       "    }\n",
       "\n",
       "    .dataframe thead th {\n",
       "        text-align: right;\n",
       "    }\n",
       "</style>\n",
       "<table border=\"1\" class=\"dataframe\">\n",
       "  <thead>\n",
       "    <tr style=\"text-align: right;\">\n",
       "      <th></th>\n",
       "      <th>start_station_name</th>\n",
       "      <th>end_station_name</th>\n",
       "      <th>trips</th>\n",
       "    </tr>\n",
       "  </thead>\n",
       "  <tbody>\n",
       "    <tr>\n",
       "      <th>0</th>\n",
       "      <td>1 Ave &amp; E 110 St</td>\n",
       "      <td>1 Ave &amp; E 110 St</td>\n",
       "      <td>195</td>\n",
       "    </tr>\n",
       "    <tr>\n",
       "      <th>1</th>\n",
       "      <td>1 Ave &amp; E 110 St</td>\n",
       "      <td>1 Ave &amp; E 18 St</td>\n",
       "      <td>1</td>\n",
       "    </tr>\n",
       "    <tr>\n",
       "      <th>2</th>\n",
       "      <td>1 Ave &amp; E 110 St</td>\n",
       "      <td>1 Ave &amp; E 30 St</td>\n",
       "      <td>2</td>\n",
       "    </tr>\n",
       "    <tr>\n",
       "      <th>3</th>\n",
       "      <td>1 Ave &amp; E 110 St</td>\n",
       "      <td>1 Ave &amp; E 44 St</td>\n",
       "      <td>1</td>\n",
       "    </tr>\n",
       "    <tr>\n",
       "      <th>4</th>\n",
       "      <td>1 Ave &amp; E 110 St</td>\n",
       "      <td>1 Ave &amp; E 62 St</td>\n",
       "      <td>7</td>\n",
       "    </tr>\n",
       "  </tbody>\n",
       "</table>\n",
       "</div>"
      ],
      "text/plain": [
       "  start_station_name  end_station_name  trips\n",
       "0   1 Ave & E 110 St  1 Ave & E 110 St    195\n",
       "1   1 Ave & E 110 St   1 Ave & E 18 St      1\n",
       "2   1 Ave & E 110 St   1 Ave & E 30 St      2\n",
       "3   1 Ave & E 110 St   1 Ave & E 44 St      1\n",
       "4   1 Ave & E 110 St   1 Ave & E 62 St      7"
      ]
     },
     "execution_count": 19,
     "metadata": {},
     "output_type": "execute_result"
    }
   ],
   "source": [
    "# Check data\n",
    "\n",
    "df_group.head()"
   ]
  }
 ],
 "metadata": {
  "kernelspec": {
   "display_name": "Python [conda env:base] *",
   "language": "python",
   "name": "conda-base-py"
  },
  "language_info": {
   "codemirror_mode": {
    "name": "ipython",
    "version": 3
   },
   "file_extension": ".py",
   "mimetype": "text/x-python",
   "name": "python",
   "nbconvert_exporter": "python",
   "pygments_lexer": "ipython3",
   "version": "3.11.7"
  }
 },
 "nbformat": 4,
 "nbformat_minor": 5
}
