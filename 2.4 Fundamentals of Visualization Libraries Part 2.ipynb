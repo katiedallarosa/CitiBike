{
 "cells": [
  {
   "cell_type": "markdown",
   "id": "ca2c15bc-a143-4246-aaa6-d3a2bb386207",
   "metadata": {},
   "source": [
    "### 2.4: Fundamentals of Visualization Libraries Part 2"
   ]
  },
  {
   "cell_type": "code",
   "execution_count": 6,
   "id": "bc478d2f-757d-46d0-8b03-0de65ecd17af",
   "metadata": {
    "tags": []
   },
   "outputs": [],
   "source": [
    "# Import libraries\n",
    "\n",
    "import pandas as pd\n",
    "from matplotlib import pyplot as plt\n",
    "import numpy as np\n",
    "from datetime import datetime as dt\n",
    "import seaborn as sns"
   ]
  },
  {
   "cell_type": "code",
   "execution_count": 12,
   "id": "9bfba99d-9d05-48d7-9b4d-a2d49ecb64ed",
   "metadata": {
    "tags": []
   },
   "outputs": [
    {
     "name": "stderr",
     "output_type": "stream",
     "text": [
      "/var/folders/zp/dgvf82dj1f11lqylj8ps_3c00000gn/T/ipykernel_10036/2887780892.py:3: DtypeWarning: Columns (7,9) have mixed types. Specify dtype option on import or set low_memory=False.\n",
      "  df = pd.read_csv('/Users/katiedallarosa/Desktop/CitiBike/nymerged_data.csv', index_col = 0)\n"
     ]
    }
   ],
   "source": [
    "# Upload dataset\n",
    "\n",
    "df = pd.read_csv('/Users/katiedallarosa/Desktop/CitiBike/nymerged_data.csv', index_col = 0)"
   ]
  },
  {
   "cell_type": "code",
   "execution_count": 19,
   "id": "e4806b4e-e225-4ded-8926-6685791b6a72",
   "metadata": {
    "tags": []
   },
   "outputs": [
    {
     "data": {
      "text/html": [
       "<div>\n",
       "<style scoped>\n",
       "    .dataframe tbody tr th:only-of-type {\n",
       "        vertical-align: middle;\n",
       "    }\n",
       "\n",
       "    .dataframe tbody tr th {\n",
       "        vertical-align: top;\n",
       "    }\n",
       "\n",
       "    .dataframe thead th {\n",
       "        text-align: right;\n",
       "    }\n",
       "</style>\n",
       "<table border=\"1\" class=\"dataframe\">\n",
       "  <thead>\n",
       "    <tr style=\"text-align: right;\">\n",
       "      <th></th>\n",
       "      <th>Unnamed: 0</th>\n",
       "      <th>ride_id</th>\n",
       "      <th>rideable_type</th>\n",
       "      <th>started_at</th>\n",
       "      <th>ended_at</th>\n",
       "      <th>start_station_name</th>\n",
       "      <th>start_station_id</th>\n",
       "      <th>end_station_name</th>\n",
       "      <th>end_station_id</th>\n",
       "      <th>start_lat</th>\n",
       "      <th>start_lng</th>\n",
       "      <th>end_lat</th>\n",
       "      <th>end_lng</th>\n",
       "      <th>member_casual</th>\n",
       "      <th>date</th>\n",
       "      <th>avgTemp</th>\n",
       "      <th>_merge</th>\n",
       "    </tr>\n",
       "  </thead>\n",
       "  <tbody>\n",
       "    <tr>\n",
       "      <th>0</th>\n",
       "      <td>5761186</td>\n",
       "      <td>344EB2CD04CD1B71</td>\n",
       "      <td>classic_bike</td>\n",
       "      <td>2022-04-13 18:46:17.884</td>\n",
       "      <td>2022-04-13 18:54:21.655</td>\n",
       "      <td>Lafayette St &amp; Jersey St</td>\n",
       "      <td>5561.06</td>\n",
       "      <td>W 15 St &amp; 6 Ave</td>\n",
       "      <td>5989.02</td>\n",
       "      <td>40.724561</td>\n",
       "      <td>-73.995653</td>\n",
       "      <td>40.738046</td>\n",
       "      <td>-73.996430</td>\n",
       "      <td>member</td>\n",
       "      <td>2022-04-13</td>\n",
       "      <td>19.1</td>\n",
       "      <td>both</td>\n",
       "    </tr>\n",
       "    <tr>\n",
       "      <th>1</th>\n",
       "      <td>9742322</td>\n",
       "      <td>17248543C251F4FB</td>\n",
       "      <td>electric_bike</td>\n",
       "      <td>2022-06-24 16:08:25.267</td>\n",
       "      <td>2022-06-24 16:23:26.771</td>\n",
       "      <td>W 29 St &amp; 9 Ave</td>\n",
       "      <td>6416.06</td>\n",
       "      <td>Spring St &amp; Hudson St</td>\n",
       "      <td>5653.12</td>\n",
       "      <td>40.750073</td>\n",
       "      <td>-73.998393</td>\n",
       "      <td>40.725840</td>\n",
       "      <td>-74.007653</td>\n",
       "      <td>casual</td>\n",
       "      <td>2022-06-24</td>\n",
       "      <td>25.6</td>\n",
       "      <td>both</td>\n",
       "    </tr>\n",
       "    <tr>\n",
       "      <th>2</th>\n",
       "      <td>7174829</td>\n",
       "      <td>43658D9AB9938656</td>\n",
       "      <td>classic_bike</td>\n",
       "      <td>2022-05-28 18:39:18.883</td>\n",
       "      <td>2022-05-28 19:09:58.450</td>\n",
       "      <td>N 11 St &amp; Kent Ave</td>\n",
       "      <td>5489.04</td>\n",
       "      <td>Kent Ave &amp; N 7 St</td>\n",
       "      <td>5489.03</td>\n",
       "      <td>40.722482</td>\n",
       "      <td>-73.959219</td>\n",
       "      <td>40.720368</td>\n",
       "      <td>-73.961651</td>\n",
       "      <td>casual</td>\n",
       "      <td>2022-05-28</td>\n",
       "      <td>16.1</td>\n",
       "      <td>both</td>\n",
       "    </tr>\n",
       "    <tr>\n",
       "      <th>3</th>\n",
       "      <td>6314532</td>\n",
       "      <td>0158721C43867EFE</td>\n",
       "      <td>classic_bike</td>\n",
       "      <td>2022-04-29 19:33:55.052</td>\n",
       "      <td>2022-04-29 19:40:16.920</td>\n",
       "      <td>DeKalb Ave &amp; Hudson Ave</td>\n",
       "      <td>4513.06</td>\n",
       "      <td>Flushing Ave &amp; Vanderbilt Ave</td>\n",
       "      <td>4762.05</td>\n",
       "      <td>40.689888</td>\n",
       "      <td>-73.981013</td>\n",
       "      <td>40.697950</td>\n",
       "      <td>-73.970776</td>\n",
       "      <td>casual</td>\n",
       "      <td>2022-04-29</td>\n",
       "      <td>11.9</td>\n",
       "      <td>both</td>\n",
       "    </tr>\n",
       "    <tr>\n",
       "      <th>4</th>\n",
       "      <td>19943346</td>\n",
       "      <td>B08E1E3FFC1F965B</td>\n",
       "      <td>classic_bike</td>\n",
       "      <td>2022-09-30 09:43:40.072</td>\n",
       "      <td>2022-09-30 09:58:17.811</td>\n",
       "      <td>Christopher St &amp; Greenwich St</td>\n",
       "      <td>5847.01</td>\n",
       "      <td>7 Ave S &amp; Bleecker St</td>\n",
       "      <td>5805.07</td>\n",
       "      <td>40.732916</td>\n",
       "      <td>-74.007114</td>\n",
       "      <td>40.732139</td>\n",
       "      <td>-74.003638</td>\n",
       "      <td>member</td>\n",
       "      <td>2022-09-30</td>\n",
       "      <td>13.2</td>\n",
       "      <td>both</td>\n",
       "    </tr>\n",
       "  </tbody>\n",
       "</table>\n",
       "</div>"
      ],
      "text/plain": [
       "   Unnamed: 0           ride_id  rideable_type               started_at  \\\n",
       "0     5761186  344EB2CD04CD1B71   classic_bike  2022-04-13 18:46:17.884   \n",
       "1     9742322  17248543C251F4FB  electric_bike  2022-06-24 16:08:25.267   \n",
       "2     7174829  43658D9AB9938656   classic_bike  2022-05-28 18:39:18.883   \n",
       "3     6314532  0158721C43867EFE   classic_bike  2022-04-29 19:33:55.052   \n",
       "4    19943346  B08E1E3FFC1F965B   classic_bike  2022-09-30 09:43:40.072   \n",
       "\n",
       "                  ended_at             start_station_name start_station_id  \\\n",
       "0  2022-04-13 18:54:21.655       Lafayette St & Jersey St          5561.06   \n",
       "1  2022-06-24 16:23:26.771                W 29 St & 9 Ave          6416.06   \n",
       "2  2022-05-28 19:09:58.450             N 11 St & Kent Ave          5489.04   \n",
       "3  2022-04-29 19:40:16.920        DeKalb Ave & Hudson Ave          4513.06   \n",
       "4  2022-09-30 09:58:17.811  Christopher St & Greenwich St          5847.01   \n",
       "\n",
       "                end_station_name end_station_id  start_lat  start_lng  \\\n",
       "0                W 15 St & 6 Ave        5989.02  40.724561 -73.995653   \n",
       "1          Spring St & Hudson St        5653.12  40.750073 -73.998393   \n",
       "2              Kent Ave & N 7 St        5489.03  40.722482 -73.959219   \n",
       "3  Flushing Ave & Vanderbilt Ave        4762.05  40.689888 -73.981013   \n",
       "4          7 Ave S & Bleecker St        5805.07  40.732916 -74.007114   \n",
       "\n",
       "     end_lat    end_lng member_casual        date  avgTemp _merge  \n",
       "0  40.738046 -73.996430        member  2022-04-13     19.1   both  \n",
       "1  40.725840 -74.007653        casual  2022-06-24     25.6   both  \n",
       "2  40.720368 -73.961651        casual  2022-05-28     16.1   both  \n",
       "3  40.697950 -73.970776        casual  2022-04-29     11.9   both  \n",
       "4  40.732139 -74.003638        member  2022-09-30     13.2   both  "
      ]
     },
     "execution_count": 19,
     "metadata": {},
     "output_type": "execute_result"
    }
   ],
   "source": [
    "# Check data\n",
    "\n",
    "df.head()"
   ]
  },
  {
   "cell_type": "code",
   "execution_count": 21,
   "id": "e2706eb3-76d6-419e-976f-29abad9af0ac",
   "metadata": {
    "tags": []
   },
   "outputs": [
    {
     "data": {
      "text/html": [
       "<div>\n",
       "<style scoped>\n",
       "    .dataframe tbody tr th:only-of-type {\n",
       "        vertical-align: middle;\n",
       "    }\n",
       "\n",
       "    .dataframe tbody tr th {\n",
       "        vertical-align: top;\n",
       "    }\n",
       "\n",
       "    .dataframe thead th {\n",
       "        text-align: right;\n",
       "    }\n",
       "</style>\n",
       "<table border=\"1\" class=\"dataframe\">\n",
       "  <thead>\n",
       "    <tr style=\"text-align: right;\">\n",
       "      <th></th>\n",
       "      <th>Unnamed: 0</th>\n",
       "      <th>ride_id</th>\n",
       "      <th>rideable_type</th>\n",
       "      <th>started_at</th>\n",
       "      <th>ended_at</th>\n",
       "      <th>start_station_name</th>\n",
       "      <th>start_station_id</th>\n",
       "      <th>end_station_name</th>\n",
       "      <th>end_station_id</th>\n",
       "      <th>start_lat</th>\n",
       "      <th>start_lng</th>\n",
       "      <th>end_lat</th>\n",
       "      <th>end_lng</th>\n",
       "      <th>member_casual</th>\n",
       "      <th>date</th>\n",
       "      <th>avgTemp</th>\n",
       "      <th>_merge</th>\n",
       "    </tr>\n",
       "  </thead>\n",
       "  <tbody>\n",
       "    <tr>\n",
       "      <th>7459697</th>\n",
       "      <td>18721933</td>\n",
       "      <td>6BE9A3E7DAA7DF9F</td>\n",
       "      <td>classic_bike</td>\n",
       "      <td>2022-08-01 18:51:46.370</td>\n",
       "      <td>2022-08-01 19:00:12.806</td>\n",
       "      <td>Park Pl &amp; Church St</td>\n",
       "      <td>5288.08</td>\n",
       "      <td>Pier 40 - Hudson River Park</td>\n",
       "      <td>5696.03</td>\n",
       "      <td>40.713342</td>\n",
       "      <td>-74.009355</td>\n",
       "      <td>40.727714</td>\n",
       "      <td>-74.011296</td>\n",
       "      <td>member</td>\n",
       "      <td>2022-08-01</td>\n",
       "      <td>25.8</td>\n",
       "      <td>both</td>\n",
       "    </tr>\n",
       "    <tr>\n",
       "      <th>7459698</th>\n",
       "      <td>24366619</td>\n",
       "      <td>2B85691FC0BAFA07</td>\n",
       "      <td>classic_bike</td>\n",
       "      <td>2022-10-18 13:40:16.152</td>\n",
       "      <td>2022-10-18 13:42:25.046</td>\n",
       "      <td>Lenox Ave &amp; W 115 St</td>\n",
       "      <td>7627.1</td>\n",
       "      <td>Lenox Ave &amp; W 117 St</td>\n",
       "      <td>7655.22</td>\n",
       "      <td>40.801194</td>\n",
       "      <td>-73.950074</td>\n",
       "      <td>40.802557</td>\n",
       "      <td>-73.949078</td>\n",
       "      <td>member</td>\n",
       "      <td>2022-10-18</td>\n",
       "      <td>4.4</td>\n",
       "      <td>both</td>\n",
       "    </tr>\n",
       "    <tr>\n",
       "      <th>7459699</th>\n",
       "      <td>18958135</td>\n",
       "      <td>B58637989FAE6F11</td>\n",
       "      <td>classic_bike</td>\n",
       "      <td>2022-08-04 19:03:33.928</td>\n",
       "      <td>2022-08-04 19:33:51.205</td>\n",
       "      <td>Broadway &amp; W 25 St</td>\n",
       "      <td>6173.08</td>\n",
       "      <td>Pearl St &amp; Hanover Square</td>\n",
       "      <td>4993.02</td>\n",
       "      <td>40.742869</td>\n",
       "      <td>-73.989186</td>\n",
       "      <td>40.704718</td>\n",
       "      <td>-74.009260</td>\n",
       "      <td>casual</td>\n",
       "      <td>2022-08-04</td>\n",
       "      <td>25.4</td>\n",
       "      <td>both</td>\n",
       "    </tr>\n",
       "    <tr>\n",
       "      <th>7459700</th>\n",
       "      <td>14960905</td>\n",
       "      <td>306F59DBD9A64143</td>\n",
       "      <td>electric_bike</td>\n",
       "      <td>2022-07-28 23:14:39.283</td>\n",
       "      <td>2022-07-28 23:21:27.303</td>\n",
       "      <td>46 Ave &amp; 5 St</td>\n",
       "      <td>6286.02</td>\n",
       "      <td>34th Ave &amp; Vernon Blvd</td>\n",
       "      <td>6873.01</td>\n",
       "      <td>40.747183</td>\n",
       "      <td>-73.954220</td>\n",
       "      <td>40.765354</td>\n",
       "      <td>-73.939863</td>\n",
       "      <td>member</td>\n",
       "      <td>2022-07-28</td>\n",
       "      <td>23.8</td>\n",
       "      <td>both</td>\n",
       "    </tr>\n",
       "    <tr>\n",
       "      <th>7459701</th>\n",
       "      <td>4677046</td>\n",
       "      <td>F0BC5B212E380DB8</td>\n",
       "      <td>classic_bike</td>\n",
       "      <td>2022-04-27 14:37:07.987</td>\n",
       "      <td>2022-04-27 14:49:59.618</td>\n",
       "      <td>Lafayette St &amp; E 8 St</td>\n",
       "      <td>5788.13</td>\n",
       "      <td>E 15 St &amp; 3 Ave</td>\n",
       "      <td>5863.07</td>\n",
       "      <td>40.730207</td>\n",
       "      <td>-73.991026</td>\n",
       "      <td>40.734232</td>\n",
       "      <td>-73.986923</td>\n",
       "      <td>member</td>\n",
       "      <td>2022-04-27</td>\n",
       "      <td>3.4</td>\n",
       "      <td>both</td>\n",
       "    </tr>\n",
       "  </tbody>\n",
       "</table>\n",
       "</div>"
      ],
      "text/plain": [
       "         Unnamed: 0           ride_id  rideable_type               started_at  \\\n",
       "7459697    18721933  6BE9A3E7DAA7DF9F   classic_bike  2022-08-01 18:51:46.370   \n",
       "7459698    24366619  2B85691FC0BAFA07   classic_bike  2022-10-18 13:40:16.152   \n",
       "7459699    18958135  B58637989FAE6F11   classic_bike  2022-08-04 19:03:33.928   \n",
       "7459700    14960905  306F59DBD9A64143  electric_bike  2022-07-28 23:14:39.283   \n",
       "7459701     4677046  F0BC5B212E380DB8   classic_bike  2022-04-27 14:37:07.987   \n",
       "\n",
       "                        ended_at     start_station_name start_station_id  \\\n",
       "7459697  2022-08-01 19:00:12.806    Park Pl & Church St          5288.08   \n",
       "7459698  2022-10-18 13:42:25.046   Lenox Ave & W 115 St           7627.1   \n",
       "7459699  2022-08-04 19:33:51.205     Broadway & W 25 St          6173.08   \n",
       "7459700  2022-07-28 23:21:27.303          46 Ave & 5 St          6286.02   \n",
       "7459701  2022-04-27 14:49:59.618  Lafayette St & E 8 St          5788.13   \n",
       "\n",
       "                    end_station_name end_station_id  start_lat  start_lng  \\\n",
       "7459697  Pier 40 - Hudson River Park        5696.03  40.713342 -74.009355   \n",
       "7459698         Lenox Ave & W 117 St        7655.22  40.801194 -73.950074   \n",
       "7459699    Pearl St & Hanover Square        4993.02  40.742869 -73.989186   \n",
       "7459700       34th Ave & Vernon Blvd        6873.01  40.747183 -73.954220   \n",
       "7459701              E 15 St & 3 Ave        5863.07  40.730207 -73.991026   \n",
       "\n",
       "           end_lat    end_lng member_casual        date  avgTemp _merge  \n",
       "7459697  40.727714 -74.011296        member  2022-08-01     25.8   both  \n",
       "7459698  40.802557 -73.949078        member  2022-10-18      4.4   both  \n",
       "7459699  40.704718 -74.009260        casual  2022-08-04     25.4   both  \n",
       "7459700  40.765354 -73.939863        member  2022-07-28     23.8   both  \n",
       "7459701  40.734232 -73.986923        member  2022-04-27      3.4   both  "
      ]
     },
     "execution_count": 21,
     "metadata": {},
     "output_type": "execute_result"
    }
   ],
   "source": [
    "# Check data\n",
    "\n",
    "df.tail()"
   ]
  },
  {
   "cell_type": "code",
   "execution_count": 24,
   "id": "60cfd1f9-7427-4404-b803-986c578d3a12",
   "metadata": {
    "tags": []
   },
   "outputs": [],
   "source": [
    "# Remove merge column\n",
    "\n",
    "df.drop(columns = {'_merge'}, inplace = True)"
   ]
  },
  {
   "cell_type": "code",
   "execution_count": 27,
   "id": "db3d5cd0-21c4-4513-926a-6b873a7309f7",
   "metadata": {
    "tags": []
   },
   "outputs": [
    {
     "data": {
      "text/plain": [
       "Unnamed: 0              int64\n",
       "ride_id                object\n",
       "rideable_type          object\n",
       "started_at             object\n",
       "ended_at               object\n",
       "start_station_name     object\n",
       "start_station_id       object\n",
       "end_station_name       object\n",
       "end_station_id         object\n",
       "start_lat             float64\n",
       "start_lng             float64\n",
       "end_lat               float64\n",
       "end_lng               float64\n",
       "member_casual          object\n",
       "date                   object\n",
       "avgTemp               float64\n",
       "dtype: object"
      ]
     },
     "execution_count": 27,
     "metadata": {},
     "output_type": "execute_result"
    }
   ],
   "source": [
    "# Check data types\n",
    "\n",
    "df.dtypes"
   ]
  },
  {
   "cell_type": "code",
   "execution_count": 30,
   "id": "6360f571-5f5c-4bac-949e-dd4c1b3d5cda",
   "metadata": {
    "tags": []
   },
   "outputs": [],
   "source": [
    "# Convert date column to datetime object\n",
    "\n",
    "df['date'] = pd.to_datetime(df['date'])"
   ]
  },
  {
   "cell_type": "code",
   "execution_count": 32,
   "id": "ba363ded-3774-4338-987a-07e0e31efd15",
   "metadata": {
    "tags": []
   },
   "outputs": [],
   "source": [
    "# Remove unnamed column\n",
    "\n",
    "df.drop(columns = {'Unnamed: 0'}, inplace = True)"
   ]
  },
  {
   "cell_type": "code",
   "execution_count": 34,
   "id": "c75eef4a-e40f-4236-a3eb-592cb068a169",
   "metadata": {
    "tags": []
   },
   "outputs": [
    {
     "data": {
      "text/plain": [
       "ride_id                       object\n",
       "rideable_type                 object\n",
       "started_at                    object\n",
       "ended_at                      object\n",
       "start_station_name            object\n",
       "start_station_id              object\n",
       "end_station_name              object\n",
       "end_station_id                object\n",
       "start_lat                    float64\n",
       "start_lng                    float64\n",
       "end_lat                      float64\n",
       "end_lng                      float64\n",
       "member_casual                 object\n",
       "date                  datetime64[ns]\n",
       "avgTemp                      float64\n",
       "dtype: object"
      ]
     },
     "execution_count": 34,
     "metadata": {},
     "output_type": "execute_result"
    }
   ],
   "source": [
    "# Recheck dtypes\n",
    "\n",
    "df.dtypes"
   ]
  },
  {
   "cell_type": "code",
   "execution_count": 14,
   "id": "58a6c77b-4d00-49f6-bc11-cae0d803a85a",
   "metadata": {
    "tags": []
   },
   "outputs": [],
   "source": [
    "# Set theme\n",
    "\n",
    "sns.set_theme(style=\"whitegrid\", palette=\"BuGn_r\")"
   ]
  },
  {
   "cell_type": "markdown",
   "id": "069b4650-0e1a-4c21-81fe-0e29f857b4f1",
   "metadata": {},
   "source": [
    "#### Create a bar chart of the top 20 starting stations frequencies."
   ]
  },
  {
   "cell_type": "code",
   "execution_count": 39,
   "id": "9d8c2b1f-c34a-4ac7-97fb-db95b938e4c5",
   "metadata": {
    "tags": []
   },
   "outputs": [],
   "source": [
    "df['value'] = 1"
   ]
  },
  {
   "cell_type": "code",
   "execution_count": 41,
   "id": "2b2aa653-6a67-442e-91d7-4d0ec346f63d",
   "metadata": {
    "tags": []
   },
   "outputs": [],
   "source": [
    "df_t = df.groupby('start_station_name')['value'].count().reset_index()"
   ]
  },
  {
   "cell_type": "code",
   "execution_count": 44,
   "id": "39e1f6c2-ab6a-4d88-8ced-12869fb55249",
   "metadata": {
    "tags": []
   },
   "outputs": [
    {
     "data": {
      "text/html": [
       "<div>\n",
       "<style scoped>\n",
       "    .dataframe tbody tr th:only-of-type {\n",
       "        vertical-align: middle;\n",
       "    }\n",
       "\n",
       "    .dataframe tbody tr th {\n",
       "        vertical-align: top;\n",
       "    }\n",
       "\n",
       "    .dataframe thead th {\n",
       "        text-align: right;\n",
       "    }\n",
       "</style>\n",
       "<table border=\"1\" class=\"dataframe\">\n",
       "  <thead>\n",
       "    <tr style=\"text-align: right;\">\n",
       "      <th></th>\n",
       "      <th>start_station_name</th>\n",
       "      <th>value</th>\n",
       "    </tr>\n",
       "  </thead>\n",
       "  <tbody>\n",
       "    <tr>\n",
       "      <th>0</th>\n",
       "      <td>1 Ave &amp; E 110 St</td>\n",
       "      <td>5385</td>\n",
       "    </tr>\n",
       "    <tr>\n",
       "      <th>1</th>\n",
       "      <td>1 Ave &amp; E 16 St</td>\n",
       "      <td>16919</td>\n",
       "    </tr>\n",
       "    <tr>\n",
       "      <th>2</th>\n",
       "      <td>1 Ave &amp; E 18 St</td>\n",
       "      <td>17832</td>\n",
       "    </tr>\n",
       "    <tr>\n",
       "      <th>3</th>\n",
       "      <td>1 Ave &amp; E 30 St</td>\n",
       "      <td>11364</td>\n",
       "    </tr>\n",
       "    <tr>\n",
       "      <th>4</th>\n",
       "      <td>1 Ave &amp; E 39 St</td>\n",
       "      <td>13119</td>\n",
       "    </tr>\n",
       "    <tr>\n",
       "      <th>...</th>\n",
       "      <td>...</td>\n",
       "      <td>...</td>\n",
       "    </tr>\n",
       "    <tr>\n",
       "      <th>1754</th>\n",
       "      <td>Wyckoff Ave &amp; Gates Ave</td>\n",
       "      <td>4117</td>\n",
       "    </tr>\n",
       "    <tr>\n",
       "      <th>1755</th>\n",
       "      <td>Wyckoff St &amp; 3 Ave</td>\n",
       "      <td>66</td>\n",
       "    </tr>\n",
       "    <tr>\n",
       "      <th>1756</th>\n",
       "      <td>Wyckoff St &amp; Nevins St</td>\n",
       "      <td>2822</td>\n",
       "    </tr>\n",
       "    <tr>\n",
       "      <th>1757</th>\n",
       "      <td>Wythe Ave &amp; Metropolitan Ave</td>\n",
       "      <td>16799</td>\n",
       "    </tr>\n",
       "    <tr>\n",
       "      <th>1758</th>\n",
       "      <td>Yankee Ferry Terminal</td>\n",
       "      <td>3137</td>\n",
       "    </tr>\n",
       "  </tbody>\n",
       "</table>\n",
       "<p>1759 rows × 2 columns</p>\n",
       "</div>"
      ],
      "text/plain": [
       "                start_station_name  value\n",
       "0                 1 Ave & E 110 St   5385\n",
       "1                  1 Ave & E 16 St  16919\n",
       "2                  1 Ave & E 18 St  17832\n",
       "3                  1 Ave & E 30 St  11364\n",
       "4                  1 Ave & E 39 St  13119\n",
       "...                            ...    ...\n",
       "1754       Wyckoff Ave & Gates Ave   4117\n",
       "1755            Wyckoff St & 3 Ave     66\n",
       "1756        Wyckoff St & Nevins St   2822\n",
       "1757  Wythe Ave & Metropolitan Ave  16799\n",
       "1758         Yankee Ferry Terminal   3137\n",
       "\n",
       "[1759 rows x 2 columns]"
      ]
     },
     "execution_count": 44,
     "metadata": {},
     "output_type": "execute_result"
    }
   ],
   "source": [
    "df_t"
   ]
  },
  {
   "cell_type": "code",
   "execution_count": 47,
   "id": "fe5e6808-1a69-41b3-8dd6-62dd573ead3f",
   "metadata": {
    "tags": []
   },
   "outputs": [],
   "source": [
    "# Create list of top 20 starting stations\n",
    "\n",
    "top20 = df_t.nlargest(20, 'value')"
   ]
  },
  {
   "cell_type": "code",
   "execution_count": 50,
   "id": "2ea3de48-da15-4b68-b937-c1bb2ddfebf5",
   "metadata": {
    "tags": []
   },
   "outputs": [
    {
     "data": {
      "text/html": [
       "<div>\n",
       "<style scoped>\n",
       "    .dataframe tbody tr th:only-of-type {\n",
       "        vertical-align: middle;\n",
       "    }\n",
       "\n",
       "    .dataframe tbody tr th {\n",
       "        vertical-align: top;\n",
       "    }\n",
       "\n",
       "    .dataframe thead th {\n",
       "        text-align: right;\n",
       "    }\n",
       "</style>\n",
       "<table border=\"1\" class=\"dataframe\">\n",
       "  <thead>\n",
       "    <tr style=\"text-align: right;\">\n",
       "      <th></th>\n",
       "      <th>start_station_name</th>\n",
       "      <th>value</th>\n",
       "    </tr>\n",
       "  </thead>\n",
       "  <tbody>\n",
       "    <tr>\n",
       "      <th>1585</th>\n",
       "      <td>W 21 St &amp; 6 Ave</td>\n",
       "      <td>32392</td>\n",
       "    </tr>\n",
       "    <tr>\n",
       "      <th>1716</th>\n",
       "      <td>West St &amp; Chambers St</td>\n",
       "      <td>30774</td>\n",
       "    </tr>\n",
       "    <tr>\n",
       "      <th>495</th>\n",
       "      <td>Broadway &amp; W 58 St</td>\n",
       "      <td>28580</td>\n",
       "    </tr>\n",
       "    <tr>\n",
       "      <th>286</th>\n",
       "      <td>6 Ave &amp; W 33 St</td>\n",
       "      <td>26753</td>\n",
       "    </tr>\n",
       "    <tr>\n",
       "      <th>8</th>\n",
       "      <td>1 Ave &amp; E 68 St</td>\n",
       "      <td>26146</td>\n",
       "    </tr>\n",
       "    <tr>\n",
       "      <th>461</th>\n",
       "      <td>Broadway &amp; E 14 St</td>\n",
       "      <td>24923</td>\n",
       "    </tr>\n",
       "    <tr>\n",
       "      <th>485</th>\n",
       "      <td>Broadway &amp; W 25 St</td>\n",
       "      <td>24689</td>\n",
       "    </tr>\n",
       "    <tr>\n",
       "      <th>1509</th>\n",
       "      <td>University Pl &amp; E 14 St</td>\n",
       "      <td>24477</td>\n",
       "    </tr>\n",
       "    <tr>\n",
       "      <th>463</th>\n",
       "      <td>Broadway &amp; E 21 St</td>\n",
       "      <td>23935</td>\n",
       "    </tr>\n",
       "    <tr>\n",
       "      <th>1601</th>\n",
       "      <td>W 31 St &amp; 7 Ave</td>\n",
       "      <td>23584</td>\n",
       "    </tr>\n",
       "    <tr>\n",
       "      <th>590</th>\n",
       "      <td>Cleveland Pl &amp; Spring St</td>\n",
       "      <td>23020</td>\n",
       "    </tr>\n",
       "    <tr>\n",
       "      <th>788</th>\n",
       "      <td>E 33 St &amp; 1 Ave</td>\n",
       "      <td>22823</td>\n",
       "    </tr>\n",
       "    <tr>\n",
       "      <th>29</th>\n",
       "      <td>12 Ave &amp; W 40 St</td>\n",
       "      <td>22604</td>\n",
       "    </tr>\n",
       "    <tr>\n",
       "      <th>287</th>\n",
       "      <td>6 Ave &amp; W 34 St</td>\n",
       "      <td>22465</td>\n",
       "    </tr>\n",
       "    <tr>\n",
       "      <th>562</th>\n",
       "      <td>Central Park S &amp; 6 Ave</td>\n",
       "      <td>22264</td>\n",
       "    </tr>\n",
       "    <tr>\n",
       "      <th>1105</th>\n",
       "      <td>Lafayette St &amp; E 8 St</td>\n",
       "      <td>21891</td>\n",
       "    </tr>\n",
       "    <tr>\n",
       "      <th>1717</th>\n",
       "      <td>West St &amp; Liberty St</td>\n",
       "      <td>21874</td>\n",
       "    </tr>\n",
       "    <tr>\n",
       "      <th>24</th>\n",
       "      <td>11 Ave &amp; W 41 St</td>\n",
       "      <td>21731</td>\n",
       "    </tr>\n",
       "    <tr>\n",
       "      <th>796</th>\n",
       "      <td>E 40 St &amp; Park Ave</td>\n",
       "      <td>21391</td>\n",
       "    </tr>\n",
       "    <tr>\n",
       "      <th>328</th>\n",
       "      <td>8 Ave &amp; W 33 St</td>\n",
       "      <td>21269</td>\n",
       "    </tr>\n",
       "  </tbody>\n",
       "</table>\n",
       "</div>"
      ],
      "text/plain": [
       "            start_station_name  value\n",
       "1585           W 21 St & 6 Ave  32392\n",
       "1716     West St & Chambers St  30774\n",
       "495         Broadway & W 58 St  28580\n",
       "286            6 Ave & W 33 St  26753\n",
       "8              1 Ave & E 68 St  26146\n",
       "461         Broadway & E 14 St  24923\n",
       "485         Broadway & W 25 St  24689\n",
       "1509   University Pl & E 14 St  24477\n",
       "463         Broadway & E 21 St  23935\n",
       "1601           W 31 St & 7 Ave  23584\n",
       "590   Cleveland Pl & Spring St  23020\n",
       "788            E 33 St & 1 Ave  22823\n",
       "29            12 Ave & W 40 St  22604\n",
       "287            6 Ave & W 34 St  22465\n",
       "562     Central Park S & 6 Ave  22264\n",
       "1105     Lafayette St & E 8 St  21891\n",
       "1717      West St & Liberty St  21874\n",
       "24            11 Ave & W 41 St  21731\n",
       "796         E 40 St & Park Ave  21391\n",
       "328            8 Ave & W 33 St  21269"
      ]
     },
     "execution_count": 50,
     "metadata": {},
     "output_type": "execute_result"
    }
   ],
   "source": [
    "# Show list\n",
    "\n",
    "top20"
   ]
  },
  {
   "cell_type": "code",
   "execution_count": 58,
   "id": "fd96b172-d705-4324-880c-0ac71f2c6f8e",
   "metadata": {
    "tags": []
   },
   "outputs": [
    {
     "data": {
      "image/png": "[encoded data removed]",
      "text/plain": [
       "<Figure size 640x480 with 1 Axes>"
      ]
     },
     "metadata": {},
     "output_type": "display_data"
    }
   ],
   "source": [
    "# Create chart to show top 20 start stations\n",
    "\n",
    "sns.barplot(data = top20, x = 'value', y = 'start_station_name', palette=(\"BuGn_r\"))\n",
    "plt.title(\"Most frequent start stations\")\n",
    "plt.show()"
   ]
  },
  {
   "cell_type": "markdown",
   "id": "565d1d41-ee0a-42f3-b51f-b1da6ba448b4",
   "metadata": {},
   "source": [
    "#### Recreate the dual-axis line plot from the previous Exercise using seaborn."
   ]
  },
  {
   "cell_type": "code",
   "execution_count": 63,
   "id": "c2b4276a-37b4-46e1-9263-b0b78df7c55e",
   "metadata": {
    "tags": []
   },
   "outputs": [],
   "source": [
    "# Groupby the count of the trips \n",
    "\n",
    "df_group = pd.DataFrame(df.groupby(['date'])['ride_id'].count()).reset_index()"
   ]
  },
  {
   "cell_type": "code",
   "execution_count": 66,
   "id": "e03aa58b-10fe-4e68-97ef-aa2dae95d5ce",
   "metadata": {
    "tags": []
   },
   "outputs": [
    {
     "data": {
      "text/html": [
       "<div>\n",
       "<style scoped>\n",
       "    .dataframe tbody tr th:only-of-type {\n",
       "        vertical-align: middle;\n",
       "    }\n",
       "\n",
       "    .dataframe tbody tr th {\n",
       "        vertical-align: top;\n",
       "    }\n",
       "\n",
       "    .dataframe thead th {\n",
       "        text-align: right;\n",
       "    }\n",
       "</style>\n",
       "<table border=\"1\" class=\"dataframe\">\n",
       "  <thead>\n",
       "    <tr style=\"text-align: right;\">\n",
       "      <th></th>\n",
       "      <th>date</th>\n",
       "      <th>ride_id</th>\n",
       "    </tr>\n",
       "  </thead>\n",
       "  <tbody>\n",
       "    <tr>\n",
       "      <th>0</th>\n",
       "      <td>2021-01-30</td>\n",
       "      <td>1</td>\n",
       "    </tr>\n",
       "    <tr>\n",
       "      <th>1</th>\n",
       "      <td>2021-03-14</td>\n",
       "      <td>1</td>\n",
       "    </tr>\n",
       "    <tr>\n",
       "      <th>2</th>\n",
       "      <td>2021-03-31</td>\n",
       "      <td>1</td>\n",
       "    </tr>\n",
       "    <tr>\n",
       "      <th>3</th>\n",
       "      <td>2021-04-30</td>\n",
       "      <td>1</td>\n",
       "    </tr>\n",
       "    <tr>\n",
       "      <th>4</th>\n",
       "      <td>2021-07-10</td>\n",
       "      <td>1</td>\n",
       "    </tr>\n",
       "  </tbody>\n",
       "</table>\n",
       "</div>"
      ],
      "text/plain": [
       "        date  ride_id\n",
       "0 2021-01-30        1\n",
       "1 2021-03-14        1\n",
       "2 2021-03-31        1\n",
       "3 2021-04-30        1\n",
       "4 2021-07-10        1"
      ]
     },
     "execution_count": 66,
     "metadata": {},
     "output_type": "execute_result"
    }
   ],
   "source": [
    "df_group.head()"
   ]
  },
  {
   "cell_type": "code",
   "execution_count": 71,
   "id": "3b394e80-944a-40ad-bc5c-108a4738888b",
   "metadata": {
    "tags": []
   },
   "outputs": [
    {
     "name": "stdout",
     "output_type": "stream",
     "text": [
      "merge_flag\n",
      "both          7459702\n",
      "left_only           0\n",
      "right_only          0\n",
      "Name: count, dtype: int64\n",
      "Shape of January 1st is (5125, 18)\n",
      "Shape of January 2nd is (10638, 18)\n",
      "Index(['ride_id', 'rideable_type', 'started_at', 'ended_at',\n",
      "       'start_station_name', 'start_station_id', 'end_station_name',\n",
      "       'end_station_id', 'start_lat', 'start_lng', 'end_lat', 'end_lng',\n",
      "       'member_casual', 'avgTemp', 'value', 'bike_rides_daily', 'merge_flag'],\n",
      "      dtype='object')\n"
     ]
    }
   ],
   "source": [
    "# Update column name and check data\n",
    "\n",
    "df_group.rename(columns = {'ride_id':'bike_rides_daily'}, inplace = True)\n",
    "df = df.merge(df_group, on = \"date\", how = 'outer', indicator = 'merge_flag')\n",
    "print(df['merge_flag'].value_counts(dropna = False))\n",
    "print(\"Shape of January 1st is\", df[df['date'] == '2022-01-01'].shape) # Check \n",
    "print(\"Shape of January 2nd is\", df[df['date'] == '2022-01-02'].shape) # Second check \n",
    "\n",
    "df_temp = df.set_index('date')\n",
    "\n",
    "print(df_temp.columns)"
   ]
  },
  {
   "cell_type": "code",
   "execution_count": 74,
   "id": "8176bf62-7bae-4937-8c9b-87c6b0d113bb",
   "metadata": {
    "tags": []
   },
   "outputs": [
    {
     "data": {
      "text/plain": [
       "Index(['ride_id', 'rideable_type', 'started_at', 'ended_at',\n",
       "       'start_station_name', 'start_station_id', 'end_station_name',\n",
       "       'end_station_id', 'start_lat', 'start_lng', 'end_lat', 'end_lng',\n",
       "       'member_casual', 'avgTemp', 'value', 'bike_rides_daily', 'merge_flag'],\n",
       "      dtype='object')"
      ]
     },
     "execution_count": 74,
     "metadata": {},
     "output_type": "execute_result"
    }
   ],
   "source": [
    "# Check columns\n",
    "\n",
    "df_temp.columns"
   ]
  },
  {
   "cell_type": "code",
   "execution_count": 77,
   "id": "1e42c053-2c0d-4ade-ab55-a569535af7a6",
   "metadata": {
    "tags": []
   },
   "outputs": [
    {
     "data": {
      "text/html": [
       "<div>\n",
       "<style scoped>\n",
       "    .dataframe tbody tr th:only-of-type {\n",
       "        vertical-align: middle;\n",
       "    }\n",
       "\n",
       "    .dataframe tbody tr th {\n",
       "        vertical-align: top;\n",
       "    }\n",
       "\n",
       "    .dataframe thead th {\n",
       "        text-align: right;\n",
       "    }\n",
       "</style>\n",
       "<table border=\"1\" class=\"dataframe\">\n",
       "  <thead>\n",
       "    <tr style=\"text-align: right;\">\n",
       "      <th></th>\n",
       "      <th>ride_id</th>\n",
       "      <th>rideable_type</th>\n",
       "      <th>started_at</th>\n",
       "      <th>ended_at</th>\n",
       "      <th>start_station_name</th>\n",
       "      <th>start_station_id</th>\n",
       "      <th>end_station_name</th>\n",
       "      <th>end_station_id</th>\n",
       "      <th>start_lat</th>\n",
       "      <th>start_lng</th>\n",
       "      <th>end_lat</th>\n",
       "      <th>end_lng</th>\n",
       "      <th>member_casual</th>\n",
       "      <th>avgTemp</th>\n",
       "      <th>value</th>\n",
       "      <th>bike_rides_daily</th>\n",
       "      <th>merge_flag</th>\n",
       "    </tr>\n",
       "    <tr>\n",
       "      <th>date</th>\n",
       "      <th></th>\n",
       "      <th></th>\n",
       "      <th></th>\n",
       "      <th></th>\n",
       "      <th></th>\n",
       "      <th></th>\n",
       "      <th></th>\n",
       "      <th></th>\n",
       "      <th></th>\n",
       "      <th></th>\n",
       "      <th></th>\n",
       "      <th></th>\n",
       "      <th></th>\n",
       "      <th></th>\n",
       "      <th></th>\n",
       "      <th></th>\n",
       "      <th></th>\n",
       "    </tr>\n",
       "  </thead>\n",
       "  <tbody>\n",
       "    <tr>\n",
       "      <th>2021-01-30</th>\n",
       "      <td>34BD74D84D320CF5</td>\n",
       "      <td>electric_bike</td>\n",
       "      <td>2021-01-30 17:30:45.544</td>\n",
       "      <td>2022-05-23 06:17:27.131</td>\n",
       "      <td>W 144 St &amp; Adam Clayton Powell Blvd</td>\n",
       "      <td>7932.1</td>\n",
       "      <td>Frederick Douglass Blvd &amp; W 112 St</td>\n",
       "      <td>7631.23</td>\n",
       "      <td>40.820877</td>\n",
       "      <td>-73.939249</td>\n",
       "      <td>40.801694</td>\n",
       "      <td>-73.957145</td>\n",
       "      <td>casual</td>\n",
       "      <td>NaN</td>\n",
       "      <td>1</td>\n",
       "      <td>1</td>\n",
       "      <td>both</td>\n",
       "    </tr>\n",
       "    <tr>\n",
       "      <th>2021-03-14</th>\n",
       "      <td>BF45D1E037463AA8</td>\n",
       "      <td>classic_bike</td>\n",
       "      <td>2021-03-14 18:17:59.923</td>\n",
       "      <td>2022-02-02 23:38:01.993</td>\n",
       "      <td>N 12 St &amp; Bedford Ave</td>\n",
       "      <td>5450.04</td>\n",
       "      <td>S Portland Ave &amp; Hanson Pl</td>\n",
       "      <td>4354.05</td>\n",
       "      <td>40.720798</td>\n",
       "      <td>-73.954847</td>\n",
       "      <td>40.685396</td>\n",
       "      <td>-73.974315</td>\n",
       "      <td>member</td>\n",
       "      <td>NaN</td>\n",
       "      <td>1</td>\n",
       "      <td>1</td>\n",
       "      <td>both</td>\n",
       "    </tr>\n",
       "    <tr>\n",
       "      <th>2021-03-31</th>\n",
       "      <td>763D82F8CFA1D9D1</td>\n",
       "      <td>classic_bike</td>\n",
       "      <td>2021-03-31 15:35:20.070</td>\n",
       "      <td>2022-09-25 14:33:21.607</td>\n",
       "      <td>Willoughby St &amp; Fleet St</td>\n",
       "      <td>4628.05</td>\n",
       "      <td>DeKalb Ave &amp; Franklin Ave</td>\n",
       "      <td>4528.01</td>\n",
       "      <td>40.691966</td>\n",
       "      <td>-73.981302</td>\n",
       "      <td>40.690648</td>\n",
       "      <td>-73.957462</td>\n",
       "      <td>casual</td>\n",
       "      <td>NaN</td>\n",
       "      <td>1</td>\n",
       "      <td>1</td>\n",
       "      <td>both</td>\n",
       "    </tr>\n",
       "    <tr>\n",
       "      <th>2021-04-30</th>\n",
       "      <td>8AFBCFEE21703C2D</td>\n",
       "      <td>classic_bike</td>\n",
       "      <td>2021-04-30 16:56:21.003</td>\n",
       "      <td>2022-03-08 17:18:57.580</td>\n",
       "      <td>Bedford Ave &amp; Nassau Ave</td>\n",
       "      <td>5550.05</td>\n",
       "      <td>Lorimer St &amp; Broadway</td>\n",
       "      <td>4965.01</td>\n",
       "      <td>40.723117</td>\n",
       "      <td>-73.952123</td>\n",
       "      <td>40.704118</td>\n",
       "      <td>-73.948186</td>\n",
       "      <td>casual</td>\n",
       "      <td>NaN</td>\n",
       "      <td>1</td>\n",
       "      <td>1</td>\n",
       "      <td>both</td>\n",
       "    </tr>\n",
       "    <tr>\n",
       "      <th>2021-07-10</th>\n",
       "      <td>BA13AC6CD2C65E88</td>\n",
       "      <td>classic_bike</td>\n",
       "      <td>2021-07-10 14:53:21.751</td>\n",
       "      <td>2022-09-09 21:21:15.210</td>\n",
       "      <td>E Tremont Ave &amp; E 176 St</td>\n",
       "      <td>8356.02</td>\n",
       "      <td>Popham Ave &amp; W 174 St</td>\n",
       "      <td>8348.02</td>\n",
       "      <td>40.847798</td>\n",
       "      <td>-73.901883</td>\n",
       "      <td>40.847746</td>\n",
       "      <td>-73.922079</td>\n",
       "      <td>casual</td>\n",
       "      <td>NaN</td>\n",
       "      <td>1</td>\n",
       "      <td>1</td>\n",
       "      <td>both</td>\n",
       "    </tr>\n",
       "  </tbody>\n",
       "</table>\n",
       "</div>"
      ],
      "text/plain": [
       "                     ride_id  rideable_type               started_at  \\\n",
       "date                                                                   \n",
       "2021-01-30  34BD74D84D320CF5  electric_bike  2021-01-30 17:30:45.544   \n",
       "2021-03-14  BF45D1E037463AA8   classic_bike  2021-03-14 18:17:59.923   \n",
       "2021-03-31  763D82F8CFA1D9D1   classic_bike  2021-03-31 15:35:20.070   \n",
       "2021-04-30  8AFBCFEE21703C2D   classic_bike  2021-04-30 16:56:21.003   \n",
       "2021-07-10  BA13AC6CD2C65E88   classic_bike  2021-07-10 14:53:21.751   \n",
       "\n",
       "                           ended_at                   start_station_name  \\\n",
       "date                                                                       \n",
       "2021-01-30  2022-05-23 06:17:27.131  W 144 St & Adam Clayton Powell Blvd   \n",
       "2021-03-14  2022-02-02 23:38:01.993                N 12 St & Bedford Ave   \n",
       "2021-03-31  2022-09-25 14:33:21.607             Willoughby St & Fleet St   \n",
       "2021-04-30  2022-03-08 17:18:57.580             Bedford Ave & Nassau Ave   \n",
       "2021-07-10  2022-09-09 21:21:15.210             E Tremont Ave & E 176 St   \n",
       "\n",
       "           start_station_id                    end_station_name  \\\n",
       "date                                                              \n",
       "2021-01-30           7932.1  Frederick Douglass Blvd & W 112 St   \n",
       "2021-03-14          5450.04          S Portland Ave & Hanson Pl   \n",
       "2021-03-31          4628.05           DeKalb Ave & Franklin Ave   \n",
       "2021-04-30          5550.05               Lorimer St & Broadway   \n",
       "2021-07-10          8356.02               Popham Ave & W 174 St   \n",
       "\n",
       "           end_station_id  start_lat  start_lng    end_lat    end_lng  \\\n",
       "date                                                                    \n",
       "2021-01-30        7631.23  40.820877 -73.939249  40.801694 -73.957145   \n",
       "2021-03-14        4354.05  40.720798 -73.954847  40.685396 -73.974315   \n",
       "2021-03-31        4528.01  40.691966 -73.981302  40.690648 -73.957462   \n",
       "2021-04-30        4965.01  40.723117 -73.952123  40.704118 -73.948186   \n",
       "2021-07-10        8348.02  40.847798 -73.901883  40.847746 -73.922079   \n",
       "\n",
       "           member_casual  avgTemp  value  bike_rides_daily merge_flag  \n",
       "date                                                                   \n",
       "2021-01-30        casual      NaN      1                 1       both  \n",
       "2021-03-14        member      NaN      1                 1       both  \n",
       "2021-03-31        casual      NaN      1                 1       both  \n",
       "2021-04-30        casual      NaN      1                 1       both  \n",
       "2021-07-10        casual      NaN      1                 1       both  "
      ]
     },
     "execution_count": 77,
     "metadata": {},
     "output_type": "execute_result"
    }
   ],
   "source": [
    "# Check data\n",
    "\n",
    "df_temp.head()"
   ]
  },
  {
   "cell_type": "code",
   "execution_count": 101,
   "id": "b5bcc6b7-3946-43bf-923d-d5d966c74262",
   "metadata": {
    "tags": []
   },
   "outputs": [
    {
     "name": "stderr",
     "output_type": "stream",
     "text": [
      "/opt/anaconda3/lib/python3.11/site-packages/seaborn/_oldcore.py:1119: FutureWarning: use_inf_as_na option is deprecated and will be removed in a future version. Convert inf values to NaN before operating instead.\n",
      "  with pd.option_context('mode.use_inf_as_na', True):\n",
      "/opt/anaconda3/lib/python3.11/site-packages/seaborn/_oldcore.py:1119: FutureWarning: use_inf_as_na option is deprecated and will be removed in a future version. Convert inf values to NaN before operating instead.\n",
      "  with pd.option_context('mode.use_inf_as_na', True):\n",
      "/opt/anaconda3/lib/python3.11/site-packages/seaborn/_oldcore.py:1119: FutureWarning: use_inf_as_na option is deprecated and will be removed in a future version. Convert inf values to NaN before operating instead.\n",
      "  with pd.option_context('mode.use_inf_as_na', True):\n",
      "/opt/anaconda3/lib/python3.11/site-packages/seaborn/_oldcore.py:1119: FutureWarning: use_inf_as_na option is deprecated and will be removed in a future version. Convert inf values to NaN before operating instead.\n",
      "  with pd.option_context('mode.use_inf_as_na', True):\n"
     ]
    },
    {
     "data": {
      "image/png": "[encoded data removed]",
      "text/plain": [
       "<Figure size 1000x500 with 2 Axes>"
      ]
     },
     "metadata": {},
     "output_type": "display_data"
    }
   ],
   "source": [
    "fig,ax = plt.subplots(figsize=(10, 5))\n",
    "sns.lineplot(data = df_temp['bike_rides_daily'], color = \"g\")\n",
    "ax.set_xlabel(\"Year 2022\", fontsize = 14) # set x-axis label\n",
    "ax.set_ylabel(\"Bike rides daily\",color = \"green\", fontsize = 14) # set y-axis label\n",
    "\n",
    "ax2 = ax.twinx()\n",
    "sns.lineplot(data = df_temp['avgTemp'], color=\"c\", ax=ax2)\n",
    "ax2.set_ylabel(\"Average temperatures\", color = \"seagreen\",fontsize=14)\n",
    "plt.title('Temperature and trips in 2022', fontsize = 18)\n",
    "plt.show()"
   ]
  },
  {
   "cell_type": "markdown",
   "id": "bfc68790-c0f4-4264-87e2-999fc2b045c8",
   "metadata": {},
   "source": [
    "#### Make a box plot of one of the categorical variables in your data set. What does this plot tell you about the variable? Write down a 3 to 5-sentence analysis of the elements of the box plot."
   ]
  },
  {
   "cell_type": "code",
   "execution_count": 84,
   "id": "4e2551a9-289f-40ff-8409-61d2a65ca3aa",
   "metadata": {
    "tags": []
   },
   "outputs": [
    {
     "data": {
      "text/plain": [
       "ride_id                       object\n",
       "rideable_type                 object\n",
       "started_at                    object\n",
       "ended_at                      object\n",
       "start_station_name            object\n",
       "start_station_id              object\n",
       "end_station_name              object\n",
       "end_station_id                object\n",
       "start_lat                    float64\n",
       "start_lng                    float64\n",
       "end_lat                      float64\n",
       "end_lng                      float64\n",
       "member_casual                 object\n",
       "date                  datetime64[ns]\n",
       "avgTemp                      float64\n",
       "value                          int64\n",
       "bike_rides_daily               int64\n",
       "merge_flag                  category\n",
       "dtype: object"
      ]
     },
     "execution_count": 84,
     "metadata": {},
     "output_type": "execute_result"
    }
   ],
   "source": [
    "df.dtypes"
   ]
  },
  {
   "cell_type": "code",
   "execution_count": 86,
   "id": "3bbe499e-b649-4635-afa8-4a9c1c5c077f",
   "metadata": {
    "tags": []
   },
   "outputs": [
    {
     "data": {
      "text/html": [
       "<div>\n",
       "<style scoped>\n",
       "    .dataframe tbody tr th:only-of-type {\n",
       "        vertical-align: middle;\n",
       "    }\n",
       "\n",
       "    .dataframe tbody tr th {\n",
       "        vertical-align: top;\n",
       "    }\n",
       "\n",
       "    .dataframe thead th {\n",
       "        text-align: right;\n",
       "    }\n",
       "</style>\n",
       "<table border=\"1\" class=\"dataframe\">\n",
       "  <thead>\n",
       "    <tr style=\"text-align: right;\">\n",
       "      <th></th>\n",
       "      <th>ride_id</th>\n",
       "      <th>rideable_type</th>\n",
       "      <th>started_at</th>\n",
       "      <th>ended_at</th>\n",
       "      <th>start_station_name</th>\n",
       "      <th>start_station_id</th>\n",
       "      <th>end_station_name</th>\n",
       "      <th>end_station_id</th>\n",
       "      <th>start_lat</th>\n",
       "      <th>start_lng</th>\n",
       "      <th>end_lat</th>\n",
       "      <th>end_lng</th>\n",
       "      <th>member_casual</th>\n",
       "      <th>date</th>\n",
       "      <th>avgTemp</th>\n",
       "      <th>value</th>\n",
       "      <th>bike_rides_daily</th>\n",
       "      <th>merge_flag</th>\n",
       "    </tr>\n",
       "  </thead>\n",
       "  <tbody>\n",
       "    <tr>\n",
       "      <th>0</th>\n",
       "      <td>34BD74D84D320CF5</td>\n",
       "      <td>electric_bike</td>\n",
       "      <td>2021-01-30 17:30:45.544</td>\n",
       "      <td>2022-05-23 06:17:27.131</td>\n",
       "      <td>W 144 St &amp; Adam Clayton Powell Blvd</td>\n",
       "      <td>7932.1</td>\n",
       "      <td>Frederick Douglass Blvd &amp; W 112 St</td>\n",
       "      <td>7631.23</td>\n",
       "      <td>40.820877</td>\n",
       "      <td>-73.939249</td>\n",
       "      <td>40.801694</td>\n",
       "      <td>-73.957145</td>\n",
       "      <td>casual</td>\n",
       "      <td>2021-01-30</td>\n",
       "      <td>NaN</td>\n",
       "      <td>1</td>\n",
       "      <td>1</td>\n",
       "      <td>both</td>\n",
       "    </tr>\n",
       "    <tr>\n",
       "      <th>1</th>\n",
       "      <td>BF45D1E037463AA8</td>\n",
       "      <td>classic_bike</td>\n",
       "      <td>2021-03-14 18:17:59.923</td>\n",
       "      <td>2022-02-02 23:38:01.993</td>\n",
       "      <td>N 12 St &amp; Bedford Ave</td>\n",
       "      <td>5450.04</td>\n",
       "      <td>S Portland Ave &amp; Hanson Pl</td>\n",
       "      <td>4354.05</td>\n",
       "      <td>40.720798</td>\n",
       "      <td>-73.954847</td>\n",
       "      <td>40.685396</td>\n",
       "      <td>-73.974315</td>\n",
       "      <td>member</td>\n",
       "      <td>2021-03-14</td>\n",
       "      <td>NaN</td>\n",
       "      <td>1</td>\n",
       "      <td>1</td>\n",
       "      <td>both</td>\n",
       "    </tr>\n",
       "    <tr>\n",
       "      <th>2</th>\n",
       "      <td>763D82F8CFA1D9D1</td>\n",
       "      <td>classic_bike</td>\n",
       "      <td>2021-03-31 15:35:20.070</td>\n",
       "      <td>2022-09-25 14:33:21.607</td>\n",
       "      <td>Willoughby St &amp; Fleet St</td>\n",
       "      <td>4628.05</td>\n",
       "      <td>DeKalb Ave &amp; Franklin Ave</td>\n",
       "      <td>4528.01</td>\n",
       "      <td>40.691966</td>\n",
       "      <td>-73.981302</td>\n",
       "      <td>40.690648</td>\n",
       "      <td>-73.957462</td>\n",
       "      <td>casual</td>\n",
       "      <td>2021-03-31</td>\n",
       "      <td>NaN</td>\n",
       "      <td>1</td>\n",
       "      <td>1</td>\n",
       "      <td>both</td>\n",
       "    </tr>\n",
       "    <tr>\n",
       "      <th>3</th>\n",
       "      <td>8AFBCFEE21703C2D</td>\n",
       "      <td>classic_bike</td>\n",
       "      <td>2021-04-30 16:56:21.003</td>\n",
       "      <td>2022-03-08 17:18:57.580</td>\n",
       "      <td>Bedford Ave &amp; Nassau Ave</td>\n",
       "      <td>5550.05</td>\n",
       "      <td>Lorimer St &amp; Broadway</td>\n",
       "      <td>4965.01</td>\n",
       "      <td>40.723117</td>\n",
       "      <td>-73.952123</td>\n",
       "      <td>40.704118</td>\n",
       "      <td>-73.948186</td>\n",
       "      <td>casual</td>\n",
       "      <td>2021-04-30</td>\n",
       "      <td>NaN</td>\n",
       "      <td>1</td>\n",
       "      <td>1</td>\n",
       "      <td>both</td>\n",
       "    </tr>\n",
       "    <tr>\n",
       "      <th>4</th>\n",
       "      <td>BA13AC6CD2C65E88</td>\n",
       "      <td>classic_bike</td>\n",
       "      <td>2021-07-10 14:53:21.751</td>\n",
       "      <td>2022-09-09 21:21:15.210</td>\n",
       "      <td>E Tremont Ave &amp; E 176 St</td>\n",
       "      <td>8356.02</td>\n",
       "      <td>Popham Ave &amp; W 174 St</td>\n",
       "      <td>8348.02</td>\n",
       "      <td>40.847798</td>\n",
       "      <td>-73.901883</td>\n",
       "      <td>40.847746</td>\n",
       "      <td>-73.922079</td>\n",
       "      <td>casual</td>\n",
       "      <td>2021-07-10</td>\n",
       "      <td>NaN</td>\n",
       "      <td>1</td>\n",
       "      <td>1</td>\n",
       "      <td>both</td>\n",
       "    </tr>\n",
       "  </tbody>\n",
       "</table>\n",
       "</div>"
      ],
      "text/plain": [
       "            ride_id  rideable_type               started_at  \\\n",
       "0  34BD74D84D320CF5  electric_bike  2021-01-30 17:30:45.544   \n",
       "1  BF45D1E037463AA8   classic_bike  2021-03-14 18:17:59.923   \n",
       "2  763D82F8CFA1D9D1   classic_bike  2021-03-31 15:35:20.070   \n",
       "3  8AFBCFEE21703C2D   classic_bike  2021-04-30 16:56:21.003   \n",
       "4  BA13AC6CD2C65E88   classic_bike  2021-07-10 14:53:21.751   \n",
       "\n",
       "                  ended_at                   start_station_name  \\\n",
       "0  2022-05-23 06:17:27.131  W 144 St & Adam Clayton Powell Blvd   \n",
       "1  2022-02-02 23:38:01.993                N 12 St & Bedford Ave   \n",
       "2  2022-09-25 14:33:21.607             Willoughby St & Fleet St   \n",
       "3  2022-03-08 17:18:57.580             Bedford Ave & Nassau Ave   \n",
       "4  2022-09-09 21:21:15.210             E Tremont Ave & E 176 St   \n",
       "\n",
       "  start_station_id                    end_station_name end_station_id  \\\n",
       "0           7932.1  Frederick Douglass Blvd & W 112 St        7631.23   \n",
       "1          5450.04          S Portland Ave & Hanson Pl        4354.05   \n",
       "2          4628.05           DeKalb Ave & Franklin Ave        4528.01   \n",
       "3          5550.05               Lorimer St & Broadway        4965.01   \n",
       "4          8356.02               Popham Ave & W 174 St        8348.02   \n",
       "\n",
       "   start_lat  start_lng    end_lat    end_lng member_casual       date  \\\n",
       "0  40.820877 -73.939249  40.801694 -73.957145        casual 2021-01-30   \n",
       "1  40.720798 -73.954847  40.685396 -73.974315        member 2021-03-14   \n",
       "2  40.691966 -73.981302  40.690648 -73.957462        casual 2021-03-31   \n",
       "3  40.723117 -73.952123  40.704118 -73.948186        casual 2021-04-30   \n",
       "4  40.847798 -73.901883  40.847746 -73.922079        casual 2021-07-10   \n",
       "\n",
       "   avgTemp  value  bike_rides_daily merge_flag  \n",
       "0      NaN      1                 1       both  \n",
       "1      NaN      1                 1       both  \n",
       "2      NaN      1                 1       both  \n",
       "3      NaN      1                 1       both  \n",
       "4      NaN      1                 1       both  "
      ]
     },
     "execution_count": 86,
     "metadata": {},
     "output_type": "execute_result"
    }
   ],
   "source": [
    "df.head()"
   ]
  },
  {
   "cell_type": "code",
   "execution_count": 90,
   "id": "8b38bc97-a1e3-4ab3-9e58-869fc2b2f9d6",
   "metadata": {
    "tags": []
   },
   "outputs": [
    {
     "data": {
      "text/plain": [
       "0          casual\n",
       "1          member\n",
       "2          casual\n",
       "3          casual\n",
       "4          casual\n",
       "            ...  \n",
       "7459697    member\n",
       "7459698    member\n",
       "7459699    member\n",
       "7459700    casual\n",
       "7459701    member\n",
       "Name: member_casual, Length: 7459702, dtype: object"
      ]
     },
     "execution_count": 90,
     "metadata": {},
     "output_type": "execute_result"
    }
   ],
   "source": [
    "df['member_casual']"
   ]
  },
  {
   "cell_type": "code",
   "execution_count": 99,
   "id": "c20d93a8-962f-4124-944e-676f336c4a06",
   "metadata": {
    "tags": []
   },
   "outputs": [
    {
     "data": {
      "image/png": "[encoded data removed]",
      "text/plain": [
       "<Figure size 900x500 with 1 Axes>"
      ]
     },
     "metadata": {},
     "output_type": "display_data"
    }
   ],
   "source": [
    "plt.figure(figsize=(9,5))\n",
    "sns.boxplot(x = 'member_casual', y = 'bike_rides_daily', data = df, palette = {'casual': 'seagreen', 'member': 'darkgreen'})\n",
    "plt.show()"
   ]
  },
  {
   "cell_type": "markdown",
   "id": "c31c07fa-8be8-41df-955e-ca67d95a0a5a",
   "metadata": {},
   "source": [
    "#### Discussion\n",
    "\n",
    "Both groups have similar median daily bike rides, around 25,000 (that doesn't sound right?). The casual group has more outliers indicating they have lower usage of the bikes compared to members. Overall distribution is similar, with casual members having more variability in lower ride counts with more frequent low-use days."
   ]
  },
  {
   "cell_type": "markdown",
   "id": "af15985e-d53d-4517-ae94-419f2aab2578",
   "metadata": {},
   "source": [
    "#### Think of how the FacetGrid plot would make sense to aid the analysis questions in the project. Create a FacetGrid and write 2 to 3 sentences analyzing what insight its output brings."
   ]
  },
  {
   "cell_type": "code",
   "execution_count": 102,
   "id": "28bd80c6-7bac-4a76-802e-f39cdc0579e9",
   "metadata": {
    "tags": []
   },
   "outputs": [
    {
     "name": "stderr",
     "output_type": "stream",
     "text": [
      "/opt/anaconda3/lib/python3.11/site-packages/seaborn/_oldcore.py:1119: FutureWarning: use_inf_as_na option is deprecated and will be removed in a future version. Convert inf values to NaN before operating instead.\n",
      "  with pd.option_context('mode.use_inf_as_na', True):\n",
      "/opt/anaconda3/lib/python3.11/site-packages/seaborn/_oldcore.py:1119: FutureWarning: use_inf_as_na option is deprecated and will be removed in a future version. Convert inf values to NaN before operating instead.\n",
      "  with pd.option_context('mode.use_inf_as_na', True):\n"
     ]
    },
    {
     "data": {
      "text/plain": [
       "<seaborn.axisgrid.FacetGrid at 0x1b633af90>"
      ]
     },
     "execution_count": 102,
     "metadata": {},
     "output_type": "execute_result"
    },
    {
     "data": {
      "image/png": "[encoded data removed]",
      "text/plain": [
       "<Figure size 600x300 with 2 Axes>"
      ]
     },
     "metadata": {},
     "output_type": "display_data"
    }
   ],
   "source": [
    "grid = sns.FacetGrid(df, col = \"member_casual\")\n",
    "grid.map(sns.histplot, \"bike_rides_daily\", bins = 15)"
   ]
  },
  {
   "cell_type": "markdown",
   "id": "175299a5-d501-4a85-b9f8-db74bb00f39d",
   "metadata": {},
   "source": [
    "#### Discussion\n",
    "\n",
    "After creating a FacetGride, we can see that members have taken far more many rides than casual riders. This indicates that members are loyal and active users. "
   ]
  },
  {
   "cell_type": "code",
   "execution_count": 110,
   "id": "1f518282-e2fe-43fa-917d-dffb2f534247",
   "metadata": {
    "tags": []
   },
   "outputs": [],
   "source": [
    "df.to_csv('nycitibike_data.csv')"
   ]
  },
  {
   "cell_type": "code",
   "execution_count": null,
   "id": "19ff0b73-1486-4b94-86dd-4752ea8200f9",
   "metadata": {},
   "outputs": [],
   "source": []
  }
 ],
 "metadata": {
  "kernelspec": {
   "display_name": "Python [conda env:base] *",
   "language": "python",
   "name": "conda-base-py"
  },
  "language_info": {
   "codemirror_mode": {
    "name": "ipython",
    "version": 3
   },
   "file_extension": ".py",
   "mimetype": "text/x-python",
   "name": "python",
   "nbconvert_exporter": "python",
   "pygments_lexer": "ipython3",
   "version": "3.11.7"
  }
 },
 "nbformat": 4,
 "nbformat_minor": 5
}
