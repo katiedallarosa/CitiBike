{
 "cells": [
  {
   "cell_type": "markdown",
   "id": "05303513-c6b7-4174-a344-e217b915afbf",
   "metadata": {},
   "source": [
    "### 2.3: Fundamentals of Visualization Libraries Part 1"
   ]
  },
  {
   "cell_type": "code",
   "execution_count": 134,
   "id": "cbcd2f33-2ae6-4e02-a64f-d9441a94b428",
   "metadata": {
    "tags": []
   },
   "outputs": [],
   "source": [
    "# Import libraries\n",
    "\n",
    "import pandas as pd\n",
    "from matplotlib import pyplot as plt\n",
    "import numpy as np\n",
    "from datetime import datetime as dt"
   ]
  },
  {
   "cell_type": "code",
   "execution_count": 136,
   "id": "449b79a7-e9f4-4996-a922-8c5b7a6ece6e",
   "metadata": {
    "tags": []
   },
   "outputs": [
    {
     "data": {
      "text/plain": [
       "'3.8.4'"
      ]
     },
     "execution_count": 136,
     "metadata": {},
     "output_type": "execute_result"
    }
   ],
   "source": [
    "import matplotlib as mpl\n",
    "matplotlib.__version__"
   ]
  },
  {
   "cell_type": "code",
   "execution_count": 138,
   "id": "fe064cc2-4cc3-489b-a221-704806ce8ef0",
   "metadata": {
    "tags": []
   },
   "outputs": [
    {
     "name": "stderr",
     "output_type": "stream",
     "text": [
      "/var/folders/zp/dgvf82dj1f11lqylj8ps_3c00000gn/T/ipykernel_1719/1183187172.py:1: DtypeWarning: Columns (7,9) have mixed types. Specify dtype option on import or set low_memory=False.\n",
      "  df = pd.read_csv('/Users/katiedallarosa/Desktop/CitiBike/nymerged_data.csv', index_col = 0)\n"
     ]
    }
   ],
   "source": [
    "df = pd.read_csv('/Users/katiedallarosa/Desktop/CitiBike/nymerged_data.csv', index_col = 0)"
   ]
  },
  {
   "cell_type": "code",
   "execution_count": 139,
   "id": "13c6da02-dff9-4d01-aa03-7a6fbae447cd",
   "metadata": {
    "tags": []
   },
   "outputs": [
    {
     "data": {
      "text/plain": [
       "Index(['Unnamed: 0', 'ride_id', 'rideable_type', 'started_at', 'ended_at',\n",
       "       'start_station_name', 'start_station_id', 'end_station_name',\n",
       "       'end_station_id', 'start_lat', 'start_lng', 'end_lat', 'end_lng',\n",
       "       'member_casual', 'date', 'avgTemp', '_merge'],\n",
       "      dtype='object')"
      ]
     },
     "execution_count": 139,
     "metadata": {},
     "output_type": "execute_result"
    }
   ],
   "source": [
    "df.columns"
   ]
  },
  {
   "cell_type": "code",
   "execution_count": 142,
   "id": "7173c313-8e69-49b6-af43-f70b0b49f880",
   "metadata": {
    "tags": []
   },
   "outputs": [],
   "source": [
    "# Remove merge column\n",
    "\n",
    "df.drop(columns = {'_merge'}, inplace = True)"
   ]
  },
  {
   "cell_type": "code",
   "execution_count": 144,
   "id": "618064cd-2e80-4334-920f-80435c9e51c9",
   "metadata": {
    "tags": []
   },
   "outputs": [
    {
     "data": {
      "text/html": [
       "<div>\n",
       "<style scoped>\n",
       "    .dataframe tbody tr th:only-of-type {\n",
       "        vertical-align: middle;\n",
       "    }\n",
       "\n",
       "    .dataframe tbody tr th {\n",
       "        vertical-align: top;\n",
       "    }\n",
       "\n",
       "    .dataframe thead th {\n",
       "        text-align: right;\n",
       "    }\n",
       "</style>\n",
       "<table border=\"1\" class=\"dataframe\">\n",
       "  <thead>\n",
       "    <tr style=\"text-align: right;\">\n",
       "      <th></th>\n",
       "      <th>Unnamed: 0</th>\n",
       "      <th>ride_id</th>\n",
       "      <th>rideable_type</th>\n",
       "      <th>started_at</th>\n",
       "      <th>ended_at</th>\n",
       "      <th>start_station_name</th>\n",
       "      <th>start_station_id</th>\n",
       "      <th>end_station_name</th>\n",
       "      <th>end_station_id</th>\n",
       "      <th>start_lat</th>\n",
       "      <th>start_lng</th>\n",
       "      <th>end_lat</th>\n",
       "      <th>end_lng</th>\n",
       "      <th>member_casual</th>\n",
       "      <th>date</th>\n",
       "      <th>avgTemp</th>\n",
       "    </tr>\n",
       "  </thead>\n",
       "  <tbody>\n",
       "    <tr>\n",
       "      <th>0</th>\n",
       "      <td>0</td>\n",
       "      <td>344EB2CD04CD1B71</td>\n",
       "      <td>classic_bike</td>\n",
       "      <td>2022-04-13 18:46:17.884</td>\n",
       "      <td>2022-04-13 18:54:21.655</td>\n",
       "      <td>Lafayette St &amp; Jersey St</td>\n",
       "      <td>5561.06</td>\n",
       "      <td>W 15 St &amp; 6 Ave</td>\n",
       "      <td>5989.02</td>\n",
       "      <td>40.724561</td>\n",
       "      <td>-73.995653</td>\n",
       "      <td>40.738046</td>\n",
       "      <td>-73.996430</td>\n",
       "      <td>member</td>\n",
       "      <td>2022-04-13</td>\n",
       "      <td>19.1</td>\n",
       "    </tr>\n",
       "    <tr>\n",
       "      <th>1</th>\n",
       "      <td>1</td>\n",
       "      <td>17248543C251F4FB</td>\n",
       "      <td>electric_bike</td>\n",
       "      <td>2022-06-24 16:08:25.267</td>\n",
       "      <td>2022-06-24 16:23:26.771</td>\n",
       "      <td>W 29 St &amp; 9 Ave</td>\n",
       "      <td>6416.06</td>\n",
       "      <td>Spring St &amp; Hudson St</td>\n",
       "      <td>5653.12</td>\n",
       "      <td>40.750073</td>\n",
       "      <td>-73.998393</td>\n",
       "      <td>40.725840</td>\n",
       "      <td>-74.007653</td>\n",
       "      <td>casual</td>\n",
       "      <td>2022-06-24</td>\n",
       "      <td>25.6</td>\n",
       "    </tr>\n",
       "    <tr>\n",
       "      <th>2</th>\n",
       "      <td>2</td>\n",
       "      <td>43658D9AB9938656</td>\n",
       "      <td>classic_bike</td>\n",
       "      <td>2022-05-28 18:39:18.883</td>\n",
       "      <td>2022-05-28 19:09:58.450</td>\n",
       "      <td>N 11 St &amp; Kent Ave</td>\n",
       "      <td>5489.04</td>\n",
       "      <td>Kent Ave &amp; N 7 St</td>\n",
       "      <td>5489.03</td>\n",
       "      <td>40.722482</td>\n",
       "      <td>-73.959219</td>\n",
       "      <td>40.720368</td>\n",
       "      <td>-73.961651</td>\n",
       "      <td>casual</td>\n",
       "      <td>2022-05-28</td>\n",
       "      <td>16.1</td>\n",
       "    </tr>\n",
       "    <tr>\n",
       "      <th>3</th>\n",
       "      <td>3</td>\n",
       "      <td>0158721C43867EFE</td>\n",
       "      <td>classic_bike</td>\n",
       "      <td>2022-04-29 19:33:55.052</td>\n",
       "      <td>2022-04-29 19:40:16.920</td>\n",
       "      <td>DeKalb Ave &amp; Hudson Ave</td>\n",
       "      <td>4513.06</td>\n",
       "      <td>Flushing Ave &amp; Vanderbilt Ave</td>\n",
       "      <td>4762.05</td>\n",
       "      <td>40.689888</td>\n",
       "      <td>-73.981013</td>\n",
       "      <td>40.697950</td>\n",
       "      <td>-73.970776</td>\n",
       "      <td>casual</td>\n",
       "      <td>2022-04-29</td>\n",
       "      <td>11.9</td>\n",
       "    </tr>\n",
       "    <tr>\n",
       "      <th>4</th>\n",
       "      <td>4</td>\n",
       "      <td>B08E1E3FFC1F965B</td>\n",
       "      <td>classic_bike</td>\n",
       "      <td>2022-09-30 09:43:40.072</td>\n",
       "      <td>2022-09-30 09:58:17.811</td>\n",
       "      <td>Christopher St &amp; Greenwich St</td>\n",
       "      <td>5847.01</td>\n",
       "      <td>7 Ave S &amp; Bleecker St</td>\n",
       "      <td>5805.07</td>\n",
       "      <td>40.732916</td>\n",
       "      <td>-74.007114</td>\n",
       "      <td>40.732139</td>\n",
       "      <td>-74.003638</td>\n",
       "      <td>member</td>\n",
       "      <td>2022-09-30</td>\n",
       "      <td>13.2</td>\n",
       "    </tr>\n",
       "  </tbody>\n",
       "</table>\n",
       "</div>"
      ],
      "text/plain": [
       "   Unnamed: 0           ride_id  rideable_type               started_at  \\\n",
       "0           0  344EB2CD04CD1B71   classic_bike  2022-04-13 18:46:17.884   \n",
       "1           1  17248543C251F4FB  electric_bike  2022-06-24 16:08:25.267   \n",
       "2           2  43658D9AB9938656   classic_bike  2022-05-28 18:39:18.883   \n",
       "3           3  0158721C43867EFE   classic_bike  2022-04-29 19:33:55.052   \n",
       "4           4  B08E1E3FFC1F965B   classic_bike  2022-09-30 09:43:40.072   \n",
       "\n",
       "                  ended_at             start_station_name start_station_id  \\\n",
       "0  2022-04-13 18:54:21.655       Lafayette St & Jersey St          5561.06   \n",
       "1  2022-06-24 16:23:26.771                W 29 St & 9 Ave          6416.06   \n",
       "2  2022-05-28 19:09:58.450             N 11 St & Kent Ave          5489.04   \n",
       "3  2022-04-29 19:40:16.920        DeKalb Ave & Hudson Ave          4513.06   \n",
       "4  2022-09-30 09:58:17.811  Christopher St & Greenwich St          5847.01   \n",
       "\n",
       "                end_station_name end_station_id  start_lat  start_lng  \\\n",
       "0                W 15 St & 6 Ave        5989.02  40.724561 -73.995653   \n",
       "1          Spring St & Hudson St        5653.12  40.750073 -73.998393   \n",
       "2              Kent Ave & N 7 St        5489.03  40.722482 -73.959219   \n",
       "3  Flushing Ave & Vanderbilt Ave        4762.05  40.689888 -73.981013   \n",
       "4          7 Ave S & Bleecker St        5805.07  40.732916 -74.007114   \n",
       "\n",
       "     end_lat    end_lng member_casual        date  avgTemp  \n",
       "0  40.738046 -73.996430        member  2022-04-13     19.1  \n",
       "1  40.725840 -74.007653        casual  2022-06-24     25.6  \n",
       "2  40.720368 -73.961651        casual  2022-05-28     16.1  \n",
       "3  40.697950 -73.970776        casual  2022-04-29     11.9  \n",
       "4  40.732139 -74.003638        member  2022-09-30     13.2  "
      ]
     },
     "execution_count": 144,
     "metadata": {},
     "output_type": "execute_result"
    }
   ],
   "source": [
    "# Check data\n",
    "\n",
    "df.head()"
   ]
  },
  {
   "cell_type": "code",
   "execution_count": 146,
   "id": "8b702542-0205-45b2-8d34-f756ba7611c5",
   "metadata": {
    "tags": []
   },
   "outputs": [
    {
     "data": {
      "text/plain": [
       "(7459541, 16)"
      ]
     },
     "execution_count": 146,
     "metadata": {},
     "output_type": "execute_result"
    }
   ],
   "source": [
    "# Check shape\n",
    "\n",
    "df.shape"
   ]
  },
  {
   "cell_type": "code",
   "execution_count": 148,
   "id": "72265e68-d929-4fa3-8670-b834efe7cc58",
   "metadata": {
    "tags": []
   },
   "outputs": [
    {
     "data": {
      "text/plain": [
       "Unnamed: 0              int64\n",
       "ride_id                object\n",
       "rideable_type          object\n",
       "started_at             object\n",
       "ended_at               object\n",
       "start_station_name     object\n",
       "start_station_id       object\n",
       "end_station_name       object\n",
       "end_station_id         object\n",
       "start_lat             float64\n",
       "start_lng             float64\n",
       "end_lat               float64\n",
       "end_lng               float64\n",
       "member_casual          object\n",
       "date                   object\n",
       "avgTemp               float64\n",
       "dtype: object"
      ]
     },
     "execution_count": 148,
     "metadata": {},
     "output_type": "execute_result"
    }
   ],
   "source": [
    "# Check data types\n",
    "\n",
    "df.dtypes"
   ]
  },
  {
   "cell_type": "code",
   "execution_count": 150,
   "id": "9c664a06-64f3-4a75-aaa7-33710a561a42",
   "metadata": {
    "tags": []
   },
   "outputs": [],
   "source": [
    "# Convert date column to datetime object\n",
    "\n",
    "df['date'] = pd.to_datetime(df['date'])"
   ]
  },
  {
   "cell_type": "code",
   "execution_count": 152,
   "id": "9ae5cc82-b3ce-4d8e-8efd-debad6176303",
   "metadata": {
    "tags": []
   },
   "outputs": [
    {
     "data": {
      "text/plain": [
       "Unnamed: 0                     int64\n",
       "ride_id                       object\n",
       "rideable_type                 object\n",
       "started_at                    object\n",
       "ended_at                      object\n",
       "start_station_name            object\n",
       "start_station_id              object\n",
       "end_station_name              object\n",
       "end_station_id                object\n",
       "start_lat                    float64\n",
       "start_lng                    float64\n",
       "end_lat                      float64\n",
       "end_lng                      float64\n",
       "member_casual                 object\n",
       "date                  datetime64[ns]\n",
       "avgTemp                      float64\n",
       "dtype: object"
      ]
     },
     "execution_count": 152,
     "metadata": {},
     "output_type": "execute_result"
    }
   ],
   "source": [
    "# Recheck dtypes\n",
    "\n",
    "df.dtypes"
   ]
  },
  {
   "cell_type": "markdown",
   "id": "a5ca3292-91f4-4d6a-aa2a-33a6b1501b0b",
   "metadata": {},
   "source": [
    "### Create a line plot of the temperatures for 2022 plotted as time series using the weather dataframe."
   ]
  },
  {
   "cell_type": "code",
   "execution_count": 164,
   "id": "cb4e76df-e9d8-4d05-9974-ba7d962ec921",
   "metadata": {
    "tags": []
   },
   "outputs": [],
   "source": [
    "# Increase agg.path.chunksize to avoid the OverflowError\n",
    "\n",
    "mpl.rcParams['agg.path.chunksize'] = 10000"
   ]
  },
  {
   "cell_type": "code",
   "execution_count": 157,
   "id": "015785e7-efec-42eb-a0be-c03df058c176",
   "metadata": {
    "tags": []
   },
   "outputs": [],
   "source": [
    "df_temp = df.set_index('date')"
   ]
  },
  {
   "cell_type": "code",
   "execution_count": 162,
   "id": "c7c65067-b1dd-4a80-84eb-d186d6d5f177",
   "metadata": {
    "collapsed": true,
    "jupyter": {
     "outputs_hidden": true
    },
    "tags": []
   },
   "outputs": [
    {
     "data": {
      "text/html": [
       "<div>\n",
       "<style scoped>\n",
       "    .dataframe tbody tr th:only-of-type {\n",
       "        vertical-align: middle;\n",
       "    }\n",
       "\n",
       "    .dataframe tbody tr th {\n",
       "        vertical-align: top;\n",
       "    }\n",
       "\n",
       "    .dataframe thead th {\n",
       "        text-align: right;\n",
       "    }\n",
       "</style>\n",
       "<table border=\"1\" class=\"dataframe\">\n",
       "  <thead>\n",
       "    <tr style=\"text-align: right;\">\n",
       "      <th></th>\n",
       "      <th>Unnamed: 0</th>\n",
       "      <th>ride_id</th>\n",
       "      <th>rideable_type</th>\n",
       "      <th>started_at</th>\n",
       "      <th>ended_at</th>\n",
       "      <th>start_station_name</th>\n",
       "      <th>start_station_id</th>\n",
       "      <th>end_station_name</th>\n",
       "      <th>end_station_id</th>\n",
       "      <th>start_lat</th>\n",
       "      <th>start_lng</th>\n",
       "      <th>end_lat</th>\n",
       "      <th>end_lng</th>\n",
       "      <th>member_casual</th>\n",
       "      <th>avgTemp</th>\n",
       "      <th>value</th>\n",
       "    </tr>\n",
       "    <tr>\n",
       "      <th>date</th>\n",
       "      <th></th>\n",
       "      <th></th>\n",
       "      <th></th>\n",
       "      <th></th>\n",
       "      <th></th>\n",
       "      <th></th>\n",
       "      <th></th>\n",
       "      <th></th>\n",
       "      <th></th>\n",
       "      <th></th>\n",
       "      <th></th>\n",
       "      <th></th>\n",
       "      <th></th>\n",
       "      <th></th>\n",
       "      <th></th>\n",
       "      <th></th>\n",
       "    </tr>\n",
       "  </thead>\n",
       "  <tbody>\n",
       "    <tr>\n",
       "      <th>2022-04-13</th>\n",
       "      <td>0</td>\n",
       "      <td>344EB2CD04CD1B71</td>\n",
       "      <td>classic_bike</td>\n",
       "      <td>2022-04-13 18:46:17.884</td>\n",
       "      <td>2022-04-13 18:54:21.655</td>\n",
       "      <td>Lafayette St &amp; Jersey St</td>\n",
       "      <td>5561.06</td>\n",
       "      <td>W 15 St &amp; 6 Ave</td>\n",
       "      <td>5989.02</td>\n",
       "      <td>40.724561</td>\n",
       "      <td>-73.995653</td>\n",
       "      <td>40.738046</td>\n",
       "      <td>-73.996430</td>\n",
       "      <td>member</td>\n",
       "      <td>19.1</td>\n",
       "      <td>1</td>\n",
       "    </tr>\n",
       "    <tr>\n",
       "      <th>2022-06-24</th>\n",
       "      <td>1</td>\n",
       "      <td>17248543C251F4FB</td>\n",
       "      <td>electric_bike</td>\n",
       "      <td>2022-06-24 16:08:25.267</td>\n",
       "      <td>2022-06-24 16:23:26.771</td>\n",
       "      <td>W 29 St &amp; 9 Ave</td>\n",
       "      <td>6416.06</td>\n",
       "      <td>Spring St &amp; Hudson St</td>\n",
       "      <td>5653.12</td>\n",
       "      <td>40.750073</td>\n",
       "      <td>-73.998393</td>\n",
       "      <td>40.725840</td>\n",
       "      <td>-74.007653</td>\n",
       "      <td>casual</td>\n",
       "      <td>25.6</td>\n",
       "      <td>1</td>\n",
       "    </tr>\n",
       "    <tr>\n",
       "      <th>2022-05-28</th>\n",
       "      <td>2</td>\n",
       "      <td>43658D9AB9938656</td>\n",
       "      <td>classic_bike</td>\n",
       "      <td>2022-05-28 18:39:18.883</td>\n",
       "      <td>2022-05-28 19:09:58.450</td>\n",
       "      <td>N 11 St &amp; Kent Ave</td>\n",
       "      <td>5489.04</td>\n",
       "      <td>Kent Ave &amp; N 7 St</td>\n",
       "      <td>5489.03</td>\n",
       "      <td>40.722482</td>\n",
       "      <td>-73.959219</td>\n",
       "      <td>40.720368</td>\n",
       "      <td>-73.961651</td>\n",
       "      <td>casual</td>\n",
       "      <td>16.1</td>\n",
       "      <td>1</td>\n",
       "    </tr>\n",
       "    <tr>\n",
       "      <th>2022-04-29</th>\n",
       "      <td>3</td>\n",
       "      <td>0158721C43867EFE</td>\n",
       "      <td>classic_bike</td>\n",
       "      <td>2022-04-29 19:33:55.052</td>\n",
       "      <td>2022-04-29 19:40:16.920</td>\n",
       "      <td>DeKalb Ave &amp; Hudson Ave</td>\n",
       "      <td>4513.06</td>\n",
       "      <td>Flushing Ave &amp; Vanderbilt Ave</td>\n",
       "      <td>4762.05</td>\n",
       "      <td>40.689888</td>\n",
       "      <td>-73.981013</td>\n",
       "      <td>40.697950</td>\n",
       "      <td>-73.970776</td>\n",
       "      <td>casual</td>\n",
       "      <td>11.9</td>\n",
       "      <td>1</td>\n",
       "    </tr>\n",
       "    <tr>\n",
       "      <th>2022-09-30</th>\n",
       "      <td>4</td>\n",
       "      <td>B08E1E3FFC1F965B</td>\n",
       "      <td>classic_bike</td>\n",
       "      <td>2022-09-30 09:43:40.072</td>\n",
       "      <td>2022-09-30 09:58:17.811</td>\n",
       "      <td>Christopher St &amp; Greenwich St</td>\n",
       "      <td>5847.01</td>\n",
       "      <td>7 Ave S &amp; Bleecker St</td>\n",
       "      <td>5805.07</td>\n",
       "      <td>40.732916</td>\n",
       "      <td>-74.007114</td>\n",
       "      <td>40.732139</td>\n",
       "      <td>-74.003638</td>\n",
       "      <td>member</td>\n",
       "      <td>13.2</td>\n",
       "      <td>1</td>\n",
       "    </tr>\n",
       "  </tbody>\n",
       "</table>\n",
       "</div>"
      ],
      "text/plain": [
       "            Unnamed: 0           ride_id  rideable_type  \\\n",
       "date                                                      \n",
       "2022-04-13           0  344EB2CD04CD1B71   classic_bike   \n",
       "2022-06-24           1  17248543C251F4FB  electric_bike   \n",
       "2022-05-28           2  43658D9AB9938656   classic_bike   \n",
       "2022-04-29           3  0158721C43867EFE   classic_bike   \n",
       "2022-09-30           4  B08E1E3FFC1F965B   classic_bike   \n",
       "\n",
       "                         started_at                 ended_at  \\\n",
       "date                                                           \n",
       "2022-04-13  2022-04-13 18:46:17.884  2022-04-13 18:54:21.655   \n",
       "2022-06-24  2022-06-24 16:08:25.267  2022-06-24 16:23:26.771   \n",
       "2022-05-28  2022-05-28 18:39:18.883  2022-05-28 19:09:58.450   \n",
       "2022-04-29  2022-04-29 19:33:55.052  2022-04-29 19:40:16.920   \n",
       "2022-09-30  2022-09-30 09:43:40.072  2022-09-30 09:58:17.811   \n",
       "\n",
       "                       start_station_name start_station_id  \\\n",
       "date                                                         \n",
       "2022-04-13       Lafayette St & Jersey St          5561.06   \n",
       "2022-06-24                W 29 St & 9 Ave          6416.06   \n",
       "2022-05-28             N 11 St & Kent Ave          5489.04   \n",
       "2022-04-29        DeKalb Ave & Hudson Ave          4513.06   \n",
       "2022-09-30  Christopher St & Greenwich St          5847.01   \n",
       "\n",
       "                         end_station_name end_station_id  start_lat  \\\n",
       "date                                                                  \n",
       "2022-04-13                W 15 St & 6 Ave        5989.02  40.724561   \n",
       "2022-06-24          Spring St & Hudson St        5653.12  40.750073   \n",
       "2022-05-28              Kent Ave & N 7 St        5489.03  40.722482   \n",
       "2022-04-29  Flushing Ave & Vanderbilt Ave        4762.05  40.689888   \n",
       "2022-09-30          7 Ave S & Bleecker St        5805.07  40.732916   \n",
       "\n",
       "            start_lng    end_lat    end_lng member_casual  avgTemp  value  \n",
       "date                                                                       \n",
       "2022-04-13 -73.995653  40.738046 -73.996430        member     19.1      1  \n",
       "2022-06-24 -73.998393  40.725840 -74.007653        casual     25.6      1  \n",
       "2022-05-28 -73.959219  40.720368 -73.961651        casual     16.1      1  \n",
       "2022-04-29 -73.981013  40.697950 -73.970776        casual     11.9      1  \n",
       "2022-09-30 -74.007114  40.732139 -74.003638        member     13.2      1  "
      ]
     },
     "execution_count": 162,
     "metadata": {},
     "output_type": "execute_result"
    }
   ],
   "source": [
    "df_temp.head()"
   ]
  },
  {
   "cell_type": "code",
   "execution_count": 166,
   "id": "698a3ce9-ba18-47d7-bedd-82fcac8c058c",
   "metadata": {
    "tags": []
   },
   "outputs": [
    {
     "data": {
      "text/plain": [
       "<Axes: xlabel='date'>"
      ]
     },
     "execution_count": 166,
     "metadata": {},
     "output_type": "execute_result"
    },
    {
     "data": {
      "image/png": "[encoded data removed]",
      "text/plain": [
       "<Figure size 640x480 with 1 Axes>"
      ]
     },
     "metadata": {},
     "output_type": "display_data"
    }
   ],
   "source": [
    "# Create simple plot\n",
    "\n",
    "df_temp['avgTemp'].plot()"
   ]
  },
  {
   "cell_type": "code",
   "execution_count": null,
   "id": "ab3fba2e-3880-498d-9920-abf3db8a56d4",
   "metadata": {},
   "outputs": [],
   "source": []
  }
 ],
 "metadata": {
  "kernelspec": {
   "display_name": "Python [conda env:base] *",
   "language": "python",
   "name": "conda-base-py"
  },
  "language_info": {
   "codemirror_mode": {
    "name": "ipython",
    "version": 3
   },
   "file_extension": ".py",
   "mimetype": "text/x-python",
   "name": "python",
   "nbconvert_exporter": "python",
   "pygments_lexer": "ipython3",
   "version": "3.11.7"
  }
 },
 "nbformat": 4,
 "nbformat_minor": 5
}
